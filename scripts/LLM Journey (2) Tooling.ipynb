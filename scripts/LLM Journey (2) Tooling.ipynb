{
 "cells": [
  {
   "cell_type": "markdown",
   "id": "8e93f7e6-3f14-4dee-aee4-8454b7fb1fb8",
   "metadata": {
    "editable": true,
    "slideshow": {
     "slide_type": ""
    },
    "tags": []
   },
   "source": [
    "# LLM Agent를 만드는 여정 (2) Tool Calling "
   ]
  },
  {
   "cell_type": "markdown",
   "id": "16ac0a73-7cfd-4d20-bef7-413c16a321b7",
   "metadata": {},
   "source": [
    "## 오늘의 목표 : LLM에게 도구를 쥐어주자 \n",
    "\n",
    "이 시리즈의 두 번째 글로, LLM에게 외부의 도구들을 연동하는 방법인 `Tool Calling`을 다뤄보도록 하겠습니다."
   ]
  },
  {
   "cell_type": "markdown",
   "id": "c7c0793f-95f9-4ed0-b28f-fdf1731ac6a5",
   "metadata": {},
   "source": [
    "### Setup"
   ]
  },
  {
   "cell_type": "code",
   "execution_count": 1,
   "id": "175b8783-cfea-4cd6-8856-71c40b22d0bf",
   "metadata": {},
   "outputs": [],
   "source": [
    "import dotenv\n",
    "import os\n",
    "dotenv.load_dotenv(\"../.env\")\n",
    "if not \"OPENAI_API_KEY\" in os.environ:\n",
    "    raise Exception(\"OPENAI_API_KEY가 환경변수에 존재하지 않습니다.\")"
   ]
  },
  {
   "cell_type": "markdown",
   "id": "e3be2bb4-4b0a-4353-b660-62efed953480",
   "metadata": {},
   "source": [
    "## LLM의 문제점: 기억의 한계\n",
    "\n",
    "LLM은 학습한 시점의 기억만을 가지고 있습니다. LLM에게 오늘의 날짜를 물어보면, 그들은 현재 날짜가 아닌, 그들 기억 속의 날짜를 답변합니다."
   ]
  },
  {
   "cell_type": "code",
   "execution_count": 2,
   "id": "f592f719-c4d7-49d9-a792-87cf78e70c44",
   "metadata": {},
   "outputs": [],
   "source": [
    "from langchain_openai import ChatOpenAI\n",
    "llm = ChatOpenAI(model='gpt-4o-mini')"
   ]
  },
  {
   "cell_type": "code",
   "execution_count": 3,
   "id": "5968e75b-4bc5-470d-af7e-571d265cb959",
   "metadata": {},
   "outputs": [
    {
     "data": {
      "text/plain": [
       "'오늘 날짜는 2023년 10월 5일입니다.'"
      ]
     },
     "execution_count": 3,
     "metadata": {},
     "output_type": "execute_result"
    }
   ],
   "source": [
    "llm.invoke('오늘 날짜는 언제야?').content"
   ]
  },
  {
   "cell_type": "markdown",
   "id": "0ae170d9-a6bb-4073-bacb-e0351c65e310",
   "metadata": {},
   "source": [
    "이렇기 때문에 LLM에게 실시간 데이터, 특정 날짜의 주식 정보등을 묻더라도, 답변을 받을 수 없습니다."
   ]
  },
  {
   "cell_type": "code",
   "execution_count": 4,
   "id": "e8082d58-3746-4797-996c-7de457cf975f",
   "metadata": {},
   "outputs": [
    {
     "data": {
      "text/plain": [
       "'죄송하지만, 실시간 데이터나 특정 날짜의 주식 종가 정보를 제공할 수 없습니다. 하지만 구글의 주식 가격을 확인하려면 금융 뉴스 웹사이트나 주식 거래 플랫폼을 이용하시면 됩니다. Yahoo Finance, Google Finance, Bloomberg와 같은 사이트에서 원하는 날짜의 정보를 찾아보실 수 있습니다. 도움이 필요하시면 말씀해 주세요!'"
      ]
     },
     "execution_count": 4,
     "metadata": {},
     "output_type": "execute_result"
    }
   ],
   "source": [
    "llm.invoke('24년 1월 첫째주 월요일 구글의 종가 정보를 가져와줘').content"
   ]
  },
  {
   "cell_type": "markdown",
   "id": "40eab0d3-9de1-4d16-9e33-866277c9b5ad",
   "metadata": {},
   "source": [
    "그렇다면 이런 LLM이 위와 같은 질문에 답변할 수 있도록 만들려면 어떻게 해야 할까요? LLM에게 **\"도구\"** 를 쥐어주어야 합니다."
   ]
  },
  {
   "cell_type": "markdown",
   "id": "df80cfe7-91fd-49e7-8c2a-13447c767f7c",
   "metadata": {},
   "source": [
    "### 외부 도구 : Python을 통한 특정 날짜 주식 정보 조회\n",
    "\n",
    "파이썬 패키지 중 하나인 `yfinance`는 편리하게 금융 정보를 조회할 수 있습니다. yfinance를 활용해서 주식 정보를 조회해 보도록 하겠습니다.\n",
    "\n",
    "````shell\n",
    "pip install yfinance\n",
    "````"
   ]
  },
  {
   "cell_type": "code",
   "execution_count": 5,
   "id": "370ca1be-7526-46c8-9d33-8909223a7f1c",
   "metadata": {},
   "outputs": [],
   "source": [
    "%%capture\n",
    "# 실습에 필요해서 설치\n",
    "!pip install yfinance"
   ]
  },
  {
   "cell_type": "code",
   "execution_count": 6,
   "id": "3579b736-29da-4c0c-a513-c6c1f81a35eb",
   "metadata": {},
   "outputs": [],
   "source": [
    "def query_stock_price(ticker:str, date: str, field: str):\n",
    "    from datetime import datetime, timedelta\n",
    "    import yfinance as yf\n",
    "    s_date = datetime.fromisoformat(date)\n",
    "\n",
    "    try:\n",
    "        stock = yf.Ticker(ticker)\n",
    "        result = stock.history(start=s_date, end=s_date + timedelta(days=1))\n",
    "    except Exception as e:\n",
    "        print(f\"호출에 실패했습니다. e: {e}\")\n",
    "        return\n",
    "    \n",
    "    if len(result) > 0:\n",
    "        value = result.iloc[0][field]\n",
    "        return value\n",
    "    else:\n",
    "        return None"
   ]
  },
  {
   "cell_type": "markdown",
   "id": "e2becb2c-7f41-4dda-b151-1a780df6579b",
   "metadata": {},
   "source": [
    "위 함수를 통해, 우리는 원하는 정보들을 가져올 수 있습니다."
   ]
  },
  {
   "cell_type": "code",
   "execution_count": 7,
   "id": "6e2d2ba9-e867-4103-a778-a11a26b35f1c",
   "metadata": {},
   "outputs": [
    {
     "name": "stdout",
     "output_type": "stream",
     "text": [
      "2024년 4월 5일 애플 시작가    :  169.16447992777472\n",
      "2024년 4월 5일 구글 최고가    :  153.04104728575675\n",
      "2024년 4월 5일 엔비디아 종가   :  100.44140625\n"
     ]
    }
   ],
   "source": [
    "print(\"2024년 4월 5일 애플 시작가    : \", query_stock_price('AAPL','2024-04-05','Open'))\n",
    "print(\"2024년 4월 5일 구글 최고가    : \", query_stock_price('GOOGL','2024-04-05','High'))\n",
    "print(\"2024년 4월 5일 엔비디아 종가   : \", query_stock_price('NVDA','2024-08-05','Close'))"
   ]
  },
  {
   "cell_type": "markdown",
   "id": "2fa32288-803b-438f-808b-fe0e03219f4e",
   "metadata": {},
   "source": [
    "LLM이 위 함수를 이용할 수 있다면, 우리에게 원하는 답변을 말할 수 있지 않을까요? LLM에게 어떤 도구가 있는지를 알려주어서 해당 도구를 사용할 수 있도록 만드는 것이 바로 `Tool Calling` 입니다."
   ]
  },
  {
   "cell_type": "markdown",
   "id": "5597087d-4240-4346-aae1-346be2c8bd0f",
   "metadata": {},
   "source": [
    "### Tool Calling: LLM이 Action을 수행하는 방법\n",
    "\n",
    "\n",
    "LLM은 기본적으로 Text을 받아, Text를 반환하는 함수입니다.  LLM은 직접 함수를 실행시킬 수 있는 기능은 없습니다. 하지만 LLM은 **어떤 함수를 어떻게 호출해야 하는지를 추론할 수 있습니다.**\n",
    "\n",
    "````mermaid\n",
    "graph LR\n",
    "    Task --> LLM\n",
    "    \n",
    "    subgraph Agent\n",
    "        LLM --> Tools\n",
    "        LLM --> |Reasoning| LLM\n",
    "    end\n",
    "    \n",
    "    Environment --> |Result| Tools\n",
    "    Tools --> |Action| Environment\n",
    "\n",
    "````"
   ]
  },
  {
   "cell_type": "markdown",
   "id": "0eb1b4d3-7d08-4f38-a512-7073ed56d00b",
   "metadata": {},
   "source": [
    "LLM이 위 함수를 활용해서,아래 문장을 통해 어떤 함수를 호출하면 될지를 추론(Reasoning)하도록 만들면 됩니다.\n",
    "\n",
    "````\n",
    "INPUT  : 24년 4월 5일 구글과 시가(open) 정보를 가져와줘\n",
    "OUTPUT : query_stock_price('GOOG', '2024-04-05', 'Open')\n",
    "````\n"
   ]
  },
  {
   "cell_type": "markdown",
   "id": "c72234ef-876b-44fa-a012-71f60b2539f7",
   "metadata": {},
   "source": [
    "### Langchain Tool\n",
    "\n",
    "Langchain에서는 LLM이 저런 함수 실행들 도와주는 `Langchain Tool`이 존재합니다. 우리는 LLM에게 우리의 함수를 이해할 수 있도록 Docstring을 추가하고, `@tool(parse_docstring=True)`을 추가합니다."
   ]
  },
  {
   "cell_type": "code",
   "execution_count": 8,
   "id": "37d8473d-8f02-4d42-8572-3cba10b70b98",
   "metadata": {},
   "outputs": [],
   "source": [
    "from langchain.tools import tool\n",
    "\n",
    "@tool(parse_docstring=True)\n",
    "def query_stock_price(ticker:str, date: str, field: str):\n",
    "    \"\"\"\n",
    "    Retrieves the stock price for a specific ticker on a given date.\n",
    "\n",
    "    Args:\n",
    "        ticker: The stock ticker symbol (e.g., 'AAPL' for Apple Inc.).\n",
    "        date: The target date in ISO format (YYYY-MM-DD).\n",
    "        field: The specific price field to retrieve (e.g., 'Open', 'High', 'Low', 'Close', 'Volume').\n",
    "\n",
    "    Returns:\n",
    "        float or None: The requested stock price value if available, None otherwise.\n",
    "    \"\"\"    \n",
    "    from datetime import datetime, timedelta\n",
    "    import yfinance as yf\n",
    "\n",
    "    s_date = datetime.fromisoformat(date)\n",
    "\n",
    "    try:\n",
    "        stock = yf.Ticker(ticker)\n",
    "        result = stock.history(start=s_date, end=s_date + timedelta(days=3))\n",
    "    except Exception as e:\n",
    "        print(f\"호출에 실패했습니다. e: {e}\")\n",
    "        return\n",
    "    \n",
    "    if len(result) > 0:\n",
    "        value = result.iloc[0][field]\n",
    "        return value\n",
    "    else:\n",
    "        return None"
   ]
  },
  {
   "cell_type": "markdown",
   "id": "5b9ce8f7-c5d9-478d-b9f9-053fb7bac559",
   "metadata": {},
   "source": [
    "위와 같이 선언된 함수는 이제 LLM이 이해할 수 있는 형태로 바뀌었습니다. 아래와 같이, 해당 함수에서는 해당 코드가 어떤 동작을 하는지, 어떤 파라미터를 받는지를 알 수 있습니다."
   ]
  },
  {
   "cell_type": "code",
   "execution_count": 9,
   "id": "02f42506-4013-4db9-b7ac-8fa908fe4c65",
   "metadata": {},
   "outputs": [
    {
     "name": "stdout",
     "output_type": "stream",
     "text": [
      "name:  query_stock_price\n",
      "description:  Retrieves the stock price for a specific ticker on a given date.\n",
      "args: \n",
      " {'ticker': {'description': \"The stock ticker symbol (e.g., 'AAPL' for Apple Inc.).\", 'title': 'Ticker', 'type': 'string'}, 'date': {'description': 'The target date in ISO format (YYYY-MM-DD).', 'title': 'Date', 'type': 'string'}, 'field': {'description': \"The specific price field to retrieve (e.g., 'Open', 'High', 'Low', 'Close', 'Volume').\", 'title': 'Field', 'type': 'string'}}\n"
     ]
    }
   ],
   "source": [
    "print(\"name: \", query_stock_price.name)\n",
    "print(\"description: \", query_stock_price.description)\n",
    "print(\"args: \\n\", query_stock_price.args)"
   ]
  },
  {
   "cell_type": "markdown",
   "id": "28fb8ded-745f-4583-a8e4-185d825f9765",
   "metadata": {},
   "source": [
    "그리고 LLM에게 `bind_tools`을 하여 해당 도구가 있다는 것을 알려줍니다. "
   ]
  },
  {
   "cell_type": "code",
   "execution_count": 11,
   "id": "df522306-d6fe-49fc-b87c-b7f664baeac3",
   "metadata": {},
   "outputs": [],
   "source": [
    "toolkit = [query_stock_price]\n",
    "tool_llm = llm.bind_tools(toolkit)"
   ]
  },
  {
   "cell_type": "markdown",
   "id": "4724502f-62df-4d9a-9001-078f400edee9",
   "metadata": {},
   "source": [
    "이제 LLM에게 요청해 보겠습니다."
   ]
  },
  {
   "cell_type": "code",
   "execution_count": 12,
   "id": "b1c0d3e2-2baf-451d-93df-4e409e2c8d1f",
   "metadata": {},
   "outputs": [
    {
     "data": {
      "text/plain": [
       "AIMessage(content='', additional_kwargs={'tool_calls': [{'id': 'call_0Fa0le72FweVUJWRQg7F1M60', 'function': {'arguments': '{\"ticker\": \"GOOGL\", \"date\": \"2024-04-05\", \"field\": \"Open\"}', 'name': 'query_stock_price'}, 'type': 'function'}, {'id': 'call_mMbEJZXlSadb2g2S3ullPwwB', 'function': {'arguments': '{\"ticker\": \"AAPL\", \"date\": \"2024-04-05\", \"field\": \"Open\"}', 'name': 'query_stock_price'}, 'type': 'function'}], 'refusal': None}, response_metadata={'token_usage': {'completion_tokens': 75, 'prompt_tokens': 134, 'total_tokens': 209, 'completion_tokens_details': {'reasoning_tokens': 0}}, 'model_name': 'gpt-4o-mini-2024-07-18', 'system_fingerprint': 'fp_f85bea6784', 'finish_reason': 'tool_calls', 'logprobs': None}, id='run-7713697e-e5e2-4609-a834-33133c06c307-0', tool_calls=[{'name': 'query_stock_price', 'args': {'ticker': 'GOOGL', 'date': '2024-04-05', 'field': 'Open'}, 'id': 'call_0Fa0le72FweVUJWRQg7F1M60', 'type': 'tool_call'}, {'name': 'query_stock_price', 'args': {'ticker': 'AAPL', 'date': '2024-04-05', 'field': 'Open'}, 'id': 'call_mMbEJZXlSadb2g2S3ullPwwB', 'type': 'tool_call'}], usage_metadata={'input_tokens': 134, 'output_tokens': 75, 'total_tokens': 209})"
      ]
     },
     "execution_count": 12,
     "metadata": {},
     "output_type": "execute_result"
    }
   ],
   "source": [
    "outputs = tool_llm.invoke('24년 4월 5일 구글과 애플의 시가(open) 정보를 가져와줘')\n",
    "\n",
    "outputs"
   ]
  },
  {
   "cell_type": "markdown",
   "id": "f87a00f5-0e02-482a-9a27-c677893903a0",
   "metadata": {},
   "source": [
    "그러면 이전과 달리 LLM은 `content`에 응답이 오는 것이 아니라, `additional_kwargs`에 `tool_calls` 아래로 담겨 옵니다.\n",
    "또한 위와 같이 여러 요청이 필요한 작업이 발생할 경우 LLM은 이렇게 N개의 요청을 나누어 제공해줍니다.\n",
    "\n",
    "여기서 중요한 점은 LLM은 **어떤 함수를 호출해야 하는지 추론(Reasoning)만 할 뿐, 실행하진 않습니다.**  우리는 LLM의 응답을 통해 실행할 수 있도록 추가적인 작업을 더해야 합니다."
   ]
  },
  {
   "cell_type": "markdown",
   "id": "16092840-a659-440e-acf7-05a5bf9b4f36",
   "metadata": {},
   "source": [
    "### `tool_calls`의 결과값을 실행시켜, `ToolMessage`로 변환하기\n",
    "\n",
    "우선 LLM이 반환한 `tool_calls`은 아래와 같이 가져올 수 있습니다."
   ]
  },
  {
   "cell_type": "code",
   "execution_count": 13,
   "id": "d37bf6e9-e998-4926-9c5f-beda104b2555",
   "metadata": {},
   "outputs": [
    {
     "data": {
      "text/plain": [
       "[{'name': 'query_stock_price',\n",
       "  'args': {'ticker': 'GOOGL', 'date': '2024-04-05', 'field': 'Open'},\n",
       "  'id': 'call_0Fa0le72FweVUJWRQg7F1M60',\n",
       "  'type': 'tool_call'},\n",
       " {'name': 'query_stock_price',\n",
       "  'args': {'ticker': 'AAPL', 'date': '2024-04-05', 'field': 'Open'},\n",
       "  'id': 'call_mMbEJZXlSadb2g2S3ullPwwB',\n",
       "  'type': 'tool_call'}]"
      ]
     },
     "execution_count": 13,
     "metadata": {},
     "output_type": "execute_result"
    }
   ],
   "source": [
    "tool_calls = outputs.tool_calls\n",
    "tool_calls"
   ]
  },
  {
   "cell_type": "markdown",
   "id": "4f10e487-3b5f-42ab-9529-54d6f3e3cdff",
   "metadata": {},
   "source": [
    "위 응답값을 통해 우리는 아래의 요청을\n",
    "> 24년 4월 5일 구글과 애플의 시가(open), 종가(close) 정보를 가져와줘\n",
    "\n",
    "LLM은 2개의 함수 호출로 나누어 추론했음을 알수 있습니다.\n",
    "\n",
    "````python\n",
    "query_stock_price('GOOGL', '2024-04-05', 'Open')\n",
    "query_stock_price('AAPL', '2024-04-05', 'Open')\n",
    "````"
   ]
  },
  {
   "cell_type": "markdown",
   "id": "0b58e607-c7a1-4746-b537-b3e663531dc6",
   "metadata": {},
   "source": [
    "### `tool_calls` 실행하기"
   ]
  },
  {
   "cell_type": "markdown",
   "id": "9b056510-f76e-4bcf-8e3e-787a7f1f10fc",
   "metadata": {},
   "source": [
    "위와 같이 만들어진 메시지들은 아래와 같이 호출할 수 있습니다. "
   ]
  },
  {
   "cell_type": "code",
   "execution_count": 14,
   "id": "7a665073-32c3-44af-816d-bf5915ea4dd2",
   "metadata": {},
   "outputs": [
    {
     "data": {
      "text/plain": [
       "ToolMessage(content='149.6594212716659', name='query_stock_price', tool_call_id='call_0Fa0le72FweVUJWRQg7F1M60')"
      ]
     },
     "execution_count": 14,
     "metadata": {},
     "output_type": "execute_result"
    }
   ],
   "source": [
    "query_stock_price.invoke(tool_calls[0])"
   ]
  },
  {
   "cell_type": "code",
   "execution_count": 15,
   "id": "599abb6c-ab73-413e-a384-70e51126f822",
   "metadata": {},
   "outputs": [
    {
     "data": {
      "text/plain": [
       "ToolMessage(content='169.16446466808637', name='query_stock_price', tool_call_id='call_mMbEJZXlSadb2g2S3ullPwwB')"
      ]
     },
     "execution_count": 15,
     "metadata": {},
     "output_type": "execute_result"
    }
   ],
   "source": [
    "query_stock_price.invoke(tool_calls[1])"
   ]
  },
  {
   "cell_type": "markdown",
   "id": "52c7d684-b305-4a93-824d-95f8f039b4cf",
   "metadata": {},
   "source": [
    "지금은 하나의 Tool만 이용하고 있지만, 이후에 다양한 Tool들을 동시에 연동한다면, 맞는 툴을 찾아서 호출해주어야 합니다."
   ]
  },
  {
   "cell_type": "code",
   "execution_count": 22,
   "id": "c3148876-da31-4fbd-98b9-54cb81c23ca7",
   "metadata": {},
   "outputs": [],
   "source": [
    "from typing import List, Dict\n",
    "from langchain_core.messages.tool import ToolMessage\n",
    "\n",
    "tool_dict =  {tool.name:tool for tool in tools}\n",
    "\n",
    "def invoke_tool_calls(tool_calls:List[Dict]) -> List[ToolMessage]:\n",
    "    \"\"\" 실제로 tool_calls을 실행시켜 message로 변환\"\"\"\n",
    "    global tool_dict\n",
    "    messages = []\n",
    "    for tool_call in tool_calls:\n",
    "        tool = tool_dict.get(tool_call['name'])            \n",
    "        messages.append(tool.invoke(tool_call))\n",
    "    return messages"
   ]
  },
  {
   "cell_type": "markdown",
   "id": "d0e499fa-0790-4b2a-ba0b-90e45834d517",
   "metadata": {},
   "source": [
    "위 코드를 통해 우리는 AI가 추론한 Tool 목록에서 맞는 툴을 찾아서 호출할 수 있습ㄴ디ㅏ."
   ]
  },
  {
   "cell_type": "code",
   "execution_count": 25,
   "id": "29768cff-6b56-4660-850b-cc09e17b4ffa",
   "metadata": {},
   "outputs": [
    {
     "data": {
      "text/plain": [
       "[ToolMessage(content='149.6594212716659', name='query_stock_price', tool_call_id='call_0Fa0le72FweVUJWRQg7F1M60'),\n",
       " ToolMessage(content='169.16446466808637', name='query_stock_price', tool_call_id='call_mMbEJZXlSadb2g2S3ullPwwB')]"
      ]
     },
     "execution_count": 25,
     "metadata": {},
     "output_type": "execute_result"
    }
   ],
   "source": [
    "tool_messages = invoke_tool_calls(tool_calls)\n",
    "tool_messages"
   ]
  },
  {
   "cell_type": "markdown",
   "id": "c5074d26-ea67-487e-b1f2-96c638d57f61",
   "metadata": {},
   "source": [
    "이렇게 만들어진 Message를 다시 이전 AI 응답값과 함께 넘겨주면 AI는 처리할 수 있습니다. 이제 코드를 완성해보도록 하겠습니다."
   ]
  },
  {
   "cell_type": "code",
   "execution_count": 26,
   "id": "3d6675f1-5795-4144-9e46-3e7bbe8d9c95",
   "metadata": {},
   "outputs": [],
   "source": [
    "from langchain.schema import HumanMessage\n",
    "\n",
    "def answer_stock_info(question:str):\n",
    "    # 1. 질문 던지기\n",
    "    message = HumanMessage(content=question)\n",
    "    print(f\"🧑: {question}\")\n",
    "    chat_history = [message]\n",
    "    \n",
    "    # 2. ai_message가 처리하도록 추가\n",
    "    while True:\n",
    "        ai_message = tool_llm.invoke(chat_history)\n",
    "        chat_history.append(ai_message)\n",
    "        \n",
    "        # 3. ai_message에서 tool_calls가 있으면 처리 후 담기\n",
    "        if ai_message.tool_calls:\n",
    "            print(\"🌐 yahoo finance를 통해 데이터 조회 중...\")\n",
    "            tool_messages = invoke_tool_calls(ai_message.tool_calls)\n",
    "            chat_history.extend(tool_messages)\n",
    "        else:\n",
    "            print(f\"🤖: {ai_message.content}\")\n",
    "            break"
   ]
  },
  {
   "cell_type": "markdown",
   "id": "e1bed7bd-d44b-4672-a07d-4955d658b249",
   "metadata": {},
   "source": [
    "이렇게 작성한 프롬프트는 아래와 같이 사용할 수 있고,"
   ]
  },
  {
   "cell_type": "code",
   "execution_count": 27,
   "id": "0dbf7000-f520-4368-8670-4e880a22fb83",
   "metadata": {},
   "outputs": [
    {
     "name": "stdout",
     "output_type": "stream",
     "text": [
      "🧑: 2024년 3월달 엔비디아 종가를 알려주세요\n",
      "🌐 yahoo finance를 통해 데이터 조회 중...\n"
     ]
    },
    {
     "name": "stderr",
     "output_type": "stream",
     "text": [
      "$NVDA: possibly delisted; no price data found  (1d 2024-03-29 00:00:00 -> 2024-04-01 00:00:00)\n"
     ]
    },
    {
     "name": "stdout",
     "output_type": "stream",
     "text": [
      "🤖: 2024년 3월 한 달간 엔비디아(NVDA)의 종가는 다음과 같습니다:\n",
      "\n",
      "- 3월 1일: 82.26\n",
      "- 3월 2일: 85.22\n",
      "- 3월 3일: 85.22\n",
      "- 3월 4일: 85.22\n",
      "- 3월 5일: 85.95\n",
      "- 3월 6일: 88.69\n",
      "- 3월 7일: 92.65\n",
      "- 3월 8일: 87.51\n",
      "- 3월 9일: 85.76\n",
      "- 3월 10일: 85.76\n",
      "- 3월 11일: 85.76\n",
      "- 3월 12일: 91.90\n",
      "- 3월 13일: 90.87\n",
      "- 3월 14일: 87.93\n",
      "- 3월 15일: 87.82\n",
      "- 3월 16일: 88.44\n",
      "- 3월 17일: 88.44\n",
      "- 3월 18일: 88.44\n",
      "- 3월 19일: 89.38\n",
      "- 3월 20일: 90.36\n",
      "- 3월 21일: 91.42\n",
      "- 3월 22일: 94.27\n",
      "- 3월 23일: 94.99\n",
      "- 3월 24일: 94.99\n",
      "- 3월 25일: 94.99\n",
      "- 3월 26일: 92.55\n",
      "- 3월 27일: 90.23\n",
      "- 3월 28일: 90.34\n",
      "- 3월 29일: 데이터 없음\n",
      "- 3월 30일: 90.35\n",
      "- 3월 31일: 90.35\n",
      "\n",
      "특정 날짜에 대한 추가 정보가 필요하시면 말씀해 주세요!\n"
     ]
    }
   ],
   "source": [
    "answer_stock_info(\"2024년 3월달 엔비디아 종가를 알려주세요\")"
   ]
  },
  {
   "cell_type": "markdown",
   "id": "72a6e8d9-1d0d-4e88-9101-b97c9f8474d6",
   "metadata": {},
   "source": [
    "이렇게 복잡한 요청도 알아서 처리해줍니다."
   ]
  },
  {
   "cell_type": "code",
   "execution_count": 28,
   "id": "aa1d5878-c851-413b-bc5a-c4dc71c78934",
   "metadata": {},
   "outputs": [
    {
     "name": "stdout",
     "output_type": "stream",
     "text": [
      "🧑: 2024년 상반기 동안 구글, 애플, 앤비디아가 이 각각 어떻게 주식 가격이 어떻게 변화했는지 수치로서 설명해 주세요\n",
      "🌐 yahoo finance를 통해 데이터 조회 중...\n",
      "🤖: 2024년 상반기 동안 구글(GOOGL), 애플(AAPL), 앤비디아(NVDA)의 주식 가격 변화는 다음과 같습니다.\n",
      "\n",
      "- **구글 (GOOGL)**\n",
      "  - 2024년 1월 1일 종가: $137.83\n",
      "  - 2024년 6월 30일 종가: $182.75\n",
      "  - **변화**: +$44.92 (약 32.5% 상승)\n",
      "\n",
      "- **애플 (AAPL)**\n",
      "  - 2024년 1월 1일 종가: $184.94\n",
      "  - 2024년 6월 30일 종가: $216.50\n",
      "  - **변화**: +$31.56 (약 17.0% 상승)\n",
      "\n",
      "- **앤비디아 (NVDA)**\n",
      "  - 2024년 1월 1일 종가: $48.16\n",
      "  - 2024년 6월 30일 종가: $124.29\n",
      "  - **변화**: +$76.13 (약 158.2% 상승)\n",
      "\n",
      "이 데이터를 통해 2024년 상반기 동안 각 회사의 주식이 어떻게 변화했는지 확인할 수 있습니다. 앤비디아의 주가 상승이 가장 두드러진 것을 알 수 있습니다.\n"
     ]
    }
   ],
   "source": [
    "answer_stock_info(\"2024년 상반기 동안 구글, 애플, 앤비디아가 이 각각 어떻게 주식 가격이 어떻게 변화했는지 수치로서 설명해 주세요\")"
   ]
  },
  {
   "cell_type": "markdown",
   "id": "d3798a41-0504-4973-9613-3b96a534ac3a",
   "metadata": {},
   "source": [
    "## `Langgraph`을 활용하여 코드를 단순화하기\n",
    "\n",
    "우리가 위에서 작성한 `answer_stock_info`는 `tool_calls` 요청이 생기면, 이것을 `Toolkit`을 통해 처리 후, LLM에 밀어넣는 방식으로 작성하였습니다. \n",
    "\n",
    "이렇게 LLM과 Tools들은 서로 상호작용하며 사람의 요청을 처리합니다. Langchain 생태계에서는 여러 컴포넌트의 상호작용을 보다 쉽게 다루기 위해 `Langgraph`라는 프레임워크를 고안했습니다. 이 코드로 어떻게 단순화시킬 수 있는지를 살펴보겠습니다."
   ]
  },
  {
   "cell_type": "code",
   "execution_count": 37,
   "id": "bf09f676-0872-4107-adf7-0abb9ce193d9",
   "metadata": {},
   "outputs": [],
   "source": [
    "from langgraph.prebuilt import create_react_agent\n",
    "from IPython.display import Image, display\n",
    "\n",
    "# ReAct\n",
    "agent = create_react_agent(llm, tools=tools)"
   ]
  },
  {
   "cell_type": "markdown",
   "id": "824e6294-a27b-41bf-9713-1a02d21b56ad",
   "metadata": {},
   "source": [
    "LLM에서 ReACT는 인공지능 언어 모델이 복잡한 질문에 답할 때 **생각(Reasoning)** 과 **행동(Acting)** 을 결합하여 더 정확하고 유용한 답변을 제공하는 기술입니다. 이는 모델이 스스로 논리적으로 추론하면서도, 필요한 경우 외부 정보나 도구를 활용하여 문제를 해결하는 방식을 말합니다. 쉽게 말해, ReACT는 AI가 사람처럼 생각하고 행동하여 더 똑똑한 답을 내놓도록 돕는 방법입니다.\n",
    "\n",
    "LangGraph에서는 LLM과 Tool이 서로 메시지를 주고받으면서 처리할 수 있는 시스템을 미리 구성하여 제공하고 있습니다. 아래 그림에서 `__START__`가 시작되면, AGENT는 TOOLS에게 필요한 경우 메시지를 보내고, 더이상 처리할 tool_calls가 없으면 종료하는 방식으로 설계되어 있습니다."
   ]
  },
  {
   "cell_type": "code",
   "execution_count": 36,
   "id": "9db62304-8fae-4ab6-baaa-d75fc335c496",
   "metadata": {},
   "outputs": [
    {
     "data": {
      "image/jpeg": "[encoded data removed]",
      "text/plain": [
       "<IPython.core.display.Image object>"
      ]
     },
     "metadata": {},
     "output_type": "display_data"
    }
   ],
   "source": [
    "display(Image(agent.get_graph().draw_mermaid_png()))"
   ]
  },
  {
   "cell_type": "markdown",
   "id": "dffc9869-5062-496b-b88b-8e140bf86f27",
   "metadata": {},
   "source": [
    "Agent에 요청은 langchain처럼 `.invoke()`를 활용할 수 있습니다."
   ]
  },
  {
   "cell_type": "code",
   "execution_count": 51,
   "id": "b962c273-2d41-4c17-a1df-b0cc99bfae3c",
   "metadata": {},
   "outputs": [
    {
     "name": "stdout",
     "output_type": "stream",
     "text": [
      "================================\u001b[1m Human Message \u001b[0m=================================\n",
      "\n",
      "2024년 상반기 동안 구글, 애플, 앤비디아가 이 각각 어떻게 주식 가격이 어떻게 변화했는지 수치로서 설명해 주세요\n",
      "==================================\u001b[1m Ai Message \u001b[0m==================================\n",
      "Tool Calls:\n",
      "  query_stock_price (call_66L0fjsGIJNxefCdTQeF0HIk)\n",
      " Call ID: call_66L0fjsGIJNxefCdTQeF0HIk\n",
      "  Args:\n",
      "    ticker: GOOGL\n",
      "    date: 2024-01-01\n",
      "    field: Close\n",
      "  query_stock_price (call_sGfhxL5lU6iBD0UXl7yVSMrI)\n",
      " Call ID: call_sGfhxL5lU6iBD0UXl7yVSMrI\n",
      "  Args:\n",
      "    ticker: GOOGL\n",
      "    date: 2024-06-30\n",
      "    field: Close\n",
      "  query_stock_price (call_NExcv3TQzGTJNHQAVThGnbB0)\n",
      " Call ID: call_NExcv3TQzGTJNHQAVThGnbB0\n",
      "  Args:\n",
      "    ticker: AAPL\n",
      "    date: 2024-01-01\n",
      "    field: Close\n",
      "  query_stock_price (call_YOX9LrGR7ipQtT9wZmWkzuve)\n",
      " Call ID: call_YOX9LrGR7ipQtT9wZmWkzuve\n",
      "  Args:\n",
      "    ticker: AAPL\n",
      "    date: 2024-06-30\n",
      "    field: Close\n",
      "  query_stock_price (call_SjKeoBhmFs19kEI3IVazJsF2)\n",
      " Call ID: call_SjKeoBhmFs19kEI3IVazJsF2\n",
      "  Args:\n",
      "    ticker: NVDA\n",
      "    date: 2024-01-01\n",
      "    field: Close\n",
      "  query_stock_price (call_VbxOrGzSzjWOgp4vkkYUmCt1)\n",
      " Call ID: call_VbxOrGzSzjWOgp4vkkYUmCt1\n",
      "  Args:\n",
      "    ticker: NVDA\n",
      "    date: 2024-06-30\n",
      "    field: Close\n",
      "=================================\u001b[1m Tool Message \u001b[0m=================================\n",
      "Name: query_stock_price\n",
      "\n",
      "137.82870483398438\n",
      "=================================\u001b[1m Tool Message \u001b[0m=================================\n",
      "Name: query_stock_price\n",
      "\n",
      "182.7475128173828\n",
      "=================================\u001b[1m Tool Message \u001b[0m=================================\n",
      "Name: query_stock_price\n",
      "\n",
      "184.93821716308594\n",
      "=================================\u001b[1m Tool Message \u001b[0m=================================\n",
      "Name: query_stock_price\n",
      "\n",
      "216.49940490722656\n",
      "=================================\u001b[1m Tool Message \u001b[0m=================================\n",
      "Name: query_stock_price\n",
      "\n",
      "48.15766525268555\n",
      "=================================\u001b[1m Tool Message \u001b[0m=================================\n",
      "Name: query_stock_price\n",
      "\n",
      "124.28936767578125\n",
      "==================================\u001b[1m Ai Message \u001b[0m==================================\n",
      "\n",
      "2024년 상반기 동안 구글, 애플, 앤비디아의 주식 가격 변화는 다음과 같습니다:\n",
      "\n",
      "1. **구글 (GOOGL)**\n",
      "   - 2024년 1월 1일 종가: **137.83 USD**\n",
      "   - 2024년 6월 30일 종가: **182.75 USD**\n",
      "   - **변화**: +32.5% (약 44.92 USD 상승)\n",
      "\n",
      "2. **애플 (AAPL)**\n",
      "   - 2024년 1월 1일 종가: **184.94 USD**\n",
      "   - 2024년 6월 30일 종가: **216.50 USD**\n",
      "   - **변화**: +17.0% (약 31.56 USD 상승)\n",
      "\n",
      "3. **앤비디아 (NVDA)**\n",
      "   - 2024년 1월 1일 종가: **48.16 USD**\n",
      "   - 2024년 6월 30일 종가: **124.29 USD**\n",
      "   - **변화**: +158.2% (약 76.13 USD 상승)\n",
      "\n",
      "이 데이터는 각 회사의 주식이 2024년 상반기 동안 어떻게 변화했는지를 보여줍니다.\n"
     ]
    }
   ],
   "source": [
    "messages = [\n",
    "    HumanMessage(content=\"2024년 상반기 동안 구글, 애플, 앤비디아가 이 각각 어떻게 주식 가격이 어떻게 변화했는지 수치로서 설명해 주세요\")\n",
    "]\n",
    "inputs = {\"messages\": messages}\n",
    "\n",
    "outputs = agent.invoke(inputs)\n",
    "\n",
    "for output in outputs['messages']:\n",
    "    output.pretty_print()"
   ]
  },
  {
   "cell_type": "markdown",
   "id": "16caf463-b941-4179-8e5f-c53bcafe37d8",
   "metadata": {},
   "source": [
    "또한, 단계 별로 어떻게 처리되는지를 실시간으로 확인하려면 `.stream()` 메서드를 통해 확인할 수도 있습니다."
   ]
  },
  {
   "cell_type": "code",
   "execution_count": 66,
   "id": "210315f1-3f47-4c2a-9354-b8d9f202730e",
   "metadata": {},
   "outputs": [
    {
     "name": "stdout",
     "output_type": "stream",
     "text": [
      "================================\u001b[1m Human Message \u001b[0m=================================\n",
      "\n",
      "2024년 상반기 동안 구글, 애플, 앤비디아가 이 각각 어떻게 주식 가격이 어떻게 변화했는지 수치로서 설명해 주세요\n",
      "==================================\u001b[1m Ai Message \u001b[0m==================================\n",
      "Tool Calls:\n",
      "  query_stock_price (call_vv0XpDm4KlmnqEizq1dO4gll)\n",
      " Call ID: call_vv0XpDm4KlmnqEizq1dO4gll\n",
      "  Args:\n",
      "    ticker: GOOGL\n",
      "    date: 2024-01-01\n",
      "    field: Close\n",
      "  query_stock_price (call_q1GKVjdMaXK3qknuBskxYME6)\n",
      " Call ID: call_q1GKVjdMaXK3qknuBskxYME6\n",
      "  Args:\n",
      "    ticker: GOOGL\n",
      "    date: 2024-06-30\n",
      "    field: Close\n",
      "  query_stock_price (call_zWjpZ7Ja8fPeAoXHrkQUFsvU)\n",
      " Call ID: call_zWjpZ7Ja8fPeAoXHrkQUFsvU\n",
      "  Args:\n",
      "    ticker: AAPL\n",
      "    date: 2024-01-01\n",
      "    field: Close\n",
      "  query_stock_price (call_u3xzwYZEdUyFcJocEEmEX2Gi)\n",
      " Call ID: call_u3xzwYZEdUyFcJocEEmEX2Gi\n",
      "  Args:\n",
      "    ticker: AAPL\n",
      "    date: 2024-06-30\n",
      "    field: Close\n",
      "  query_stock_price (call_k1RbTJKWUK3RjQUEN1VFFUIy)\n",
      " Call ID: call_k1RbTJKWUK3RjQUEN1VFFUIy\n",
      "  Args:\n",
      "    ticker: NVDA\n",
      "    date: 2024-01-01\n",
      "    field: Close\n",
      "  query_stock_price (call_r2kyhoEilsvmt9KuTVbdPkJj)\n",
      " Call ID: call_r2kyhoEilsvmt9KuTVbdPkJj\n",
      "  Args:\n",
      "    ticker: NVDA\n",
      "    date: 2024-06-30\n",
      "    field: Close\n",
      "=================================\u001b[1m Tool Message \u001b[0m=================================\n",
      "Name: query_stock_price\n",
      "\n",
      "137.82870483398438\n",
      "=================================\u001b[1m Tool Message \u001b[0m=================================\n",
      "Name: query_stock_price\n",
      "\n",
      "182.7475128173828\n",
      "=================================\u001b[1m Tool Message \u001b[0m=================================\n",
      "Name: query_stock_price\n",
      "\n",
      "184.93821716308594\n",
      "=================================\u001b[1m Tool Message \u001b[0m=================================\n",
      "Name: query_stock_price\n",
      "\n",
      "216.49940490722656\n",
      "=================================\u001b[1m Tool Message \u001b[0m=================================\n",
      "Name: query_stock_price\n",
      "\n",
      "48.15766525268555\n",
      "=================================\u001b[1m Tool Message \u001b[0m=================================\n",
      "Name: query_stock_price\n",
      "\n",
      "124.28936767578125\n",
      "==================================\u001b[1m Ai Message \u001b[0m==================================\n",
      "\n",
      "2024년 상반기 동안 구글(GOOGL), 애플(AAPL), 앤비디아(NVDA)의 주식 가격 변화는 다음과 같습니다.\n",
      "\n",
      "1. **구글 (GOOGL)**\n",
      "   - 2024년 1월 1일: $137.83\n",
      "   - 2024년 6월 30일: $182.75\n",
      "   - **변화:** $182.75 - $137.83 = **$44.92** (약 32.5% 상승)\n",
      "\n",
      "2. **애플 (AAPL)**\n",
      "   - 2024년 1월 1일: $184.94\n",
      "   - 2024년 6월 30일: $216.50\n",
      "   - **변화:** $216.50 - $184.94 = **$31.56** (약 17.1% 상승)\n",
      "\n",
      "3. **앤비디아 (NVDA)**\n",
      "   - 2024년 1월 1일: $48.16\n",
      "   - 2024년 6월 30일: $124.29\n",
      "   - **변화:** $124.29 - $48.16 = **$76.13** (약 158.3% 상승)\n",
      "\n",
      "이 데이터는 각 기업의 주식이 2024년 상반기 동안 어떻게 변화했는지를 보여줍니다. 앤비디아의 주식이 가장 큰 상승폭을 기록했습니다.\n"
     ]
    }
   ],
   "source": [
    "curr = 0\n",
    "for state in agent.stream(inputs, stream_mode=\"values\"):\n",
    "    messages = state['messages']\n",
    "    \n",
    "    for message in messages[curr:]:\n",
    "        message.pretty_print()\n",
    "    \n",
    "    curr = len(state['messages'])"
   ]
  },
  {
   "cell_type": "markdown",
   "id": "e007a43a-4899-488a-9271-aa6c1551e035",
   "metadata": {},
   "source": [
    "### Reference\n",
    "\n",
    "1. [Langchain: How to use chat models to call tools](https://python.langchain.com/docs/how_to/tool_calling/)\n",
    "\n",
    "2. [Tool Calling for LLMs: A Detailed Tutorial](https://medium.com/@developer.yasir.pk/tool-calling-for-llms-a-detailed-tutorial-a2b4d78633e2)\n",
    "\n",
    "3. [github issue:\"An assistant message with 'tool_calls' must be followed by tool messages responding to each 'tool_call_id'.](https://github.com/langchain-ai/langchain/discussions/23733)"
   ]
  }
 ],
 "metadata": {
  "kernelspec": {
   "display_name": "Python 3 (ipykernel)",
   "language": "python",
   "name": "python3"
  },
  "language_info": {
   "codemirror_mode": {
    "name": "ipython",
    "version": 3
   },
   "file_extension": ".py",
   "mimetype": "text/x-python",
   "name": "python",
   "nbconvert_exporter": "python",
   "pygments_lexer": "ipython3",
   "version": "3.10.14"
  }
 },
 "nbformat": 4,
 "nbformat_minor": 5
}
