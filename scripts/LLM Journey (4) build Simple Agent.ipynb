{
 "cells": [
  {
   "cell_type": "markdown",
   "id": "8e93f7e6-3f14-4dee-aee4-8454b7fb1fb8",
   "metadata": {
    "editable": true,
    "slideshow": {
     "slide_type": ""
    },
    "tags": []
   },
   "source": [
    "# LLM Agent를 만드는 여정 (4) Langgraph을 활용한 Agent 시스템 설계"
   ]
  },
  {
   "cell_type": "markdown",
   "id": "16ac0a73-7cfd-4d20-bef7-413c16a321b7",
   "metadata": {},
   "source": [
    "## 오늘의 목표 : LangGraph을 활용한 Agent 시스템 설계\n",
    "\n",
    "이 시리즈의 네 번째 글로, `자동차 사고 접수를 도와주는 챗봇` 시스템을 설계해보도록 하겠습니다. 해당 챗봇은 유저와 대화하며, \"사고 시각\", \"사고 위치\", \"사고 경위\", \"사고 범위\" 등을 파악하는 시스템입니다."
   ]
  },
  {
   "cell_type": "code",
   "execution_count": 1,
   "id": "d9ec8a96-c85f-4653-abb6-9fca57941a22",
   "metadata": {},
   "outputs": [],
   "source": [
    "%%capture\n",
    "%pip install langgraph"
   ]
  },
  {
   "cell_type": "markdown",
   "id": "c7c0793f-95f9-4ed0-b28f-fdf1731ac6a5",
   "metadata": {},
   "source": [
    "#### Setup"
   ]
  },
  {
   "cell_type": "code",
   "execution_count": 228,
   "id": "175b8783-cfea-4cd6-8856-71c40b22d0bf",
   "metadata": {},
   "outputs": [],
   "source": [
    "import dotenv\n",
    "import os\n",
    "dotenv.load_dotenv(\"../.env\")\n",
    "if not \"OPENAI_API_KEY\" in os.environ:\n",
    "    raise Exception(\"OPENAI_API_KEY가 환경변수에 존재하지 않습니다.\")"
   ]
  },
  {
   "cell_type": "markdown",
   "id": "cf3d3067-1f15-4b0b-9aa7-a51d8e728246",
   "metadata": {},
   "source": [
    "#### 모델 불러오기"
   ]
  },
  {
   "cell_type": "code",
   "execution_count": 229,
   "id": "eab356ed-5a81-48cd-a205-2fe2885c203a",
   "metadata": {},
   "outputs": [],
   "source": [
    "from langchain_openai import ChatOpenAI\n",
    "\n",
    "llm = ChatOpenAI(model='gpt-4o')"
   ]
  },
  {
   "cell_type": "markdown",
   "id": "78070355-90bd-43e6-8c13-449181600c6b",
   "metadata": {},
   "source": [
    "### Langchain으으로 `자동차 사고 접수를 도와주는 챗봇` 구성하기"
   ]
  },
  {
   "cell_type": "markdown",
   "id": "dd16f4ef-4369-4098-8735-98872f73b4f3",
   "metadata": {},
   "source": [
    "자동차 사고 접수 데이터는 아래와 같다고 해봅시다."
   ]
  },
  {
   "cell_type": "code",
   "execution_count": 230,
   "id": "1508de50-b4e2-44d8-bbfc-608b88b1ebf9",
   "metadata": {},
   "outputs": [],
   "source": [
    "from datetime import date, time\n",
    "from typing import Optional, Union\n",
    "from pydantic import BaseModel, Field\n",
    "\n",
    "class AccidentRegistrationInfo(BaseModel):\n",
    "    \"\"\" 사고 등록시 필요한 필수 정보 \"\"\"\n",
    "    acc_date: date = Field(..., description=\"사고가 발생한 일자\")\n",
    "    acc_time: time = Field(..., description=\"사고가 발생한 시각\")\n",
    "    location: str = Field(..., description=\"사고가 발생한 위치\")\n",
    "    reason: str = Field(..., description=\"사고가 발생한 이유에 대한 자세한 설명\")"
   ]
  },
  {
   "cell_type": "markdown",
   "id": "ce867451-ac0b-463a-be82-bb9488ac4b71",
   "metadata": {},
   "source": [
    "유저가 한 번에 4가지 정보를 맞춰 대답하지 않을 수 있습니다. 이 경우에는 Agent가 추가적인 질문을 해서 유저로부터 답변을 이끌어내야 합니다. 이를 위한 스키마는 아래와 같습니다."
   ]
  },
  {
   "cell_type": "code",
   "execution_count": 231,
   "id": "02e1f175-db92-4134-bd9a-ca0758e4e9ae",
   "metadata": {},
   "outputs": [],
   "source": [
    "class AdditionalQuestion(BaseModel):\n",
    "    \"\"\" 사고 등록 시 필요한 정보를 유저에게 요청 \"\"\"\n",
    "    question: str = Field(...,description=\"사고 접수 시 필요한 정보를 요청하기 위한 추가적인 질문\")"
   ]
  },
  {
   "cell_type": "markdown",
   "id": "500bb3b7-6817-474d-9f13-eac97b2e9f94",
   "metadata": {},
   "source": [
    "두가지 응답값이 동시에 존재하는 경우에는 아래와 같이 Union을 통해 묶을 수 있습니다."
   ]
  },
  {
   "cell_type": "code",
   "execution_count": 232,
   "id": "0a41f496-e155-421c-89a1-6baa5bfee7d3",
   "metadata": {},
   "outputs": [],
   "source": [
    "class AccidentChatBotResponse(BaseModel):\n",
    "    \"\"\" 챗봇의 응답값으로, 사고 등록 시 필요한 정보가 부족한 경우, 사고 등록 시 필요한 필수 정보를 추가적으로 유저에게 질문하고, 사고 등록 시 필요한 필수 정보를 받환 받으면 유저에게 보여준 후 종료합니다.\n",
    "    \"\"\"\n",
    "    response: Union[AdditionalQuestion, AccidentRegistrationInfo] =  Field(..., description=\"챗봇의 응답\")\n",
    "\n",
    "accident_llm = llm.with_structured_output(AccidentChatBotResponse)"
   ]
  },
  {
   "cell_type": "markdown",
   "id": "cd0e6678-4e57-4fea-92d8-bed5a8fb090e",
   "metadata": {},
   "source": [
    "#### 사고접수를 위한 프롬프트 디자인 \n",
    "\n",
    "유저로부터 사고 접수를 위한 주요정보를 얻어내기 위해 아래와 같이 시스템 프롬프트를 작성했습니다."
   ]
  },
  {
   "cell_type": "code",
   "execution_count": 235,
   "id": "a156e52c-5976-4eaa-b659-9b5bcc14d042",
   "metadata": {},
   "outputs": [],
   "source": [
    "from datetime import datetime\n",
    "from langchain.schema import AIMessage, HumanMessage, SystemMessage\n",
    "from langchain.prompts import SystemMessagePromptTemplate, ChatPromptTemplate\n",
    "\n",
    "system_prompt = SystemMessagePromptTemplate.from_template(\n",
    "    \"당신은 자동차 사고 접수를 도와주는 Agent입니다. 유저에게 사고 접수를 위한 필수 정보를 요청하고, 응답받은 후 정리해 주세요.\\n\\n\"\n",
    "    \"필수 정보 \\n\"\n",
    "    \"- 사고가 발생한 일자\\n\"\n",
    "    \"- 사고가 발생한 시각\\n\"\n",
    "    \"- 사고가 발생한 위치\\n\"\n",
    "    \"- 사고가 발생한 이유\\n\\n\"\n",
    "    \"참고사항 \\n\"\n",
    "    \"- 한번에 하나씩 질문해 주세요.\\n\"\n",
    "    \"- 모든 정보를 확보하면, 필수 정보를 정리해 주세요.\"\n",
    "    \"- 오늘, 어제와 같은 상대적인 시간 표현을 하면, 현재 시각({now})을 기준으로 계산해 주세요.\"\n",
    "    \"- 위 4가지의 필수 정보는 누락되면 안됩니다.\\n\"\n",
    ")\n",
    "ai_message = AIMessage(content=\"안녕하세요! 자동차 접수를 도와드리겠습니다. 언제 사고가 발생하셨나요?\")"
   ]
  },
  {
   "cell_type": "markdown",
   "id": "c4135973-31f3-414c-a228-53513662474d",
   "metadata": {},
   "source": [
    "#### 채팅 시스템 작성하기\n",
    "\n",
    "Langchain을 활용해서 우리는 간단하게 아래와 같이 작성할 수 있습니다. Agent는 유저에게서 사고 접수에 필요한 정보를 요청하여, 총 4가지 요소 (일자 / 시각 / 위치 / 원인)을 확보합니다.  그리고 4가지 정보 모두 확보한 경우, 사고 접수 기록이 완료되면, 접수 기록을 출력하고 종료합니다."
   ]
  },
  {
   "cell_type": "code",
   "execution_count": 236,
   "id": "13e2b5d5-d48f-46dd-9537-d3a4ece0361d",
   "metadata": {},
   "outputs": [
    {
     "name": "stdout",
     "output_type": "stream",
     "text": [
      "==================================\u001b[1m Ai Message \u001b[0m==================================\n",
      "\n",
      "안녕하세요! 자동차 접수를 도와드리겠습니다. 언제 사고가 발생하셨나요?\n"
     ]
    },
    {
     "name": "stdin",
     "output_type": "stream",
     "text": [
      "고객:  어제 7시에 발생했어요\n"
     ]
    },
    {
     "name": "stdout",
     "output_type": "stream",
     "text": [
      "==================================\u001b[1m Ai Message \u001b[0m==================================\n",
      "\n",
      "사고가 발생한 위치는 어디인가요?\n"
     ]
    },
    {
     "name": "stdin",
     "output_type": "stream",
     "text": [
      "고객:  신림역 부근이요\n"
     ]
    },
    {
     "name": "stdout",
     "output_type": "stream",
     "text": [
      "==================================\u001b[1m Ai Message \u001b[0m==================================\n",
      "\n",
      "사고가 발생한 이유는 무엇인가요?\n"
     ]
    },
    {
     "name": "stdin",
     "output_type": "stream",
     "text": [
      "고객:  빨간불인데, 뒤에서 SUV가 박았어요. \n"
     ]
    },
    {
     "name": "stdout",
     "output_type": "stream",
     "text": [
      "사고 접수가 완료되었습니다.\n",
      "==================================\n",
      "사고 일자 :  2024-10-03\n",
      "사고 시각 :  19:00:00\n",
      "사고 위치 :  신림역 부근\n",
      "사고 원인 :  빨간불인데, 뒤에서 SUV가 박았어요.\n"
     ]
    }
   ],
   "source": [
    "system_message = system_prompt.format_messages(now=datetime.now())\n",
    "chat_history = [*system_message, ai_message]\n",
    "\n",
    "while True:\n",
    "    last_message = chat_history[-1]\n",
    "    last_message.pretty_print()\n",
    "    \n",
    "    input_message = input(\"고객: \")\n",
    "    human_message = HumanMessage(content=input_message)\n",
    "    chat_history.append(human_message)\n",
    "\n",
    "    resp = accident_llm.invoke(chat_history)\n",
    "    if isinstance(resp.response, AdditionalQuestion):\n",
    "        # 추가 질문이 있는 경우\n",
    "        chat_history.append(AIMessage(content=resp.response.question))\n",
    "    else:\n",
    "        # 추가 질문이 없는 경우\n",
    "        break\n",
    "\n",
    "\n",
    "print(\"사고 접수가 완료되었습니다.\")\n",
    "print(\"==================================\")\n",
    "print(\"사고 일자 : \", resp.response.acc_date)\n",
    "print(\"사고 시각 : \", resp.response.acc_time)\n",
    "print(\"사고 위치 : \", resp.response.location)\n",
    "print(\"사고 원인 : \", resp.response.reason)"
   ]
  },
  {
   "cell_type": "markdown",
   "id": "8b8ec5e4-f717-4571-94b7-fe5dfe2a92ba",
   "metadata": {},
   "source": [
    "위와 같은 Agent 시스템을 LangGraph을 통해 보다 구조화해보도록 하겠습니다."
   ]
  },
  {
   "cell_type": "markdown",
   "id": "7b726599-c88f-41e4-9e39-95364b049ba1",
   "metadata": {},
   "source": [
    "## Langgraph로 Agent 시스템 재구성하기\n",
    "\n",
    "위와 같이 LLM 모델과 대화를 이어나가기 위해서는, **이전의 대화 기록**을 저장해두어야 합니다. LLM은 자체적으로 기억하는 능력이 없기 때문에, 대화를 이어나가기 위해서는 이전 대화 정보를 항상 같이 보내주어야 하기 때문입니다.\n",
    "\n",
    "대화 기록(`messages`)와 같은 정보들을 우리는 보통 **상태 정보(state)** 라 합니다. 대화를 한다는 것은 대화 기록에 메시지를 추가하는 \"상태 변경\"과 같습니다.\n",
    "\n",
    "Langgraph는 Langchain과 달리 상태를 관리하고, 상태에 따라 서로 다른 액션을 수행할 수 있는 프로그램을 설계하는 프레임워크입니다."
   ]
  },
  {
   "cell_type": "code",
   "execution_count": 210,
   "id": "a975fff6-d765-4490-b945-ffda2a2c14e6",
   "metadata": {},
   "outputs": [],
   "source": [
    "from typing import Annotated, Sequence, TypedDict\n",
    "from langchain_core.messages import BaseMessage\n",
    "from langgraph.graph import StateGraph\n",
    "\n",
    "class AgentState(TypedDict):\n",
    "    messages: Sequence[BaseMessage]\n",
    "    info: AccidentRegistrationInfo\n",
    "\n",
    "# Agent를 만들기 위한 Builder 구성\n",
    "builder = StateGraph(AgentState)"
   ]
  },
  {
   "cell_type": "markdown",
   "id": "74ad7073-2520-41da-b848-194622f7aa39",
   "metadata": {},
   "source": [
    "우선 위와 같이 간단한 AgentState를 정의하고, 이를 기반한 StateGraph를 선언하겠습니다. "
   ]
  },
  {
   "cell_type": "markdown",
   "id": "2d2b74b2-e569-40f7-abbc-dc5f02dc1a1d",
   "metadata": {},
   "source": [
    "### Node : Agent의 작업을 처리하는 함수\n",
    "\n",
    "노드는 Agent 시스템에서 실제 작업을 수행하는 부분으로, 현재의 `State`를 입력값으로 받아서 일련의 처리 후, 수정된 `State`를 반환하는 함수 입니다."
   ]
  },
  {
   "cell_type": "markdown",
   "id": "0314a696-c00a-4a6b-ab14-d859d6861e14",
   "metadata": {},
   "source": [
    "#### Initial Prompt 노드: 첫 대화와 맥락 정보를 담음"
   ]
  },
  {
   "cell_type": "code",
   "execution_count": 211,
   "id": "1b0459b5-c20e-438d-b309-1636f6602b16",
   "metadata": {},
   "outputs": [
    {
     "data": {
      "text/plain": [
       "<langgraph.graph.state.StateGraph at 0x16a379570>"
      ]
     },
     "execution_count": 211,
     "metadata": {},
     "output_type": "execute_result"
    }
   ],
   "source": [
    "class InitialPromptNode:\n",
    "    def __init__(self):\n",
    "        self.prompt = SystemMessagePromptTemplate.from_template(\n",
    "            \"당신은 자동차 사고 접수를 도와주는 Agent입니다. 유저에게 사고 접수를 위한 필수 정보를 요청하고, 응답받은 후 정리해 주세요.\\n\\n\"\n",
    "            \"필수 정보 \\n\"\n",
    "            \"- 사고가 발생한 일자\\n\"\n",
    "            \"- 사고가 발생한 시각\\n\"\n",
    "            \"- 사고가 발생한 위치\\n\"\n",
    "            \"- 사고가 발생한 이유\\n\\n\"\n",
    "            \"참고사항 \\n\"\n",
    "            \"- 한번에 하나씩 질문해 주세요.\\n\"\n",
    "            \"- 모든 정보를 확보하면, 필수 정보를 정리해 주세요.\"\n",
    "            \"- 오늘, 어제와 같은 상대적인 시간 표현을 하면, 현재 시각({now})을 기준으로 계산해 주세요.\"\n",
    "            \"- 위 4가지의 필수 정보는 누락되면 안됩니다.\\n\"\n",
    "        )\n",
    "        self.ai_message = AIMessage(content=\"안녕하세요! 자동차 접수를 도와드리겠습니다. 언제 사고가 발생하셨나요?\")        \n",
    "    \n",
    "    def __call__(self, state: AgentState) -> AgentState:\n",
    "        initial_messages = [\n",
    "            *self.prompt.format_messages(now=datetime.now()),\n",
    "            self.ai_message\n",
    "        ]\n",
    "        return {\n",
    "            \"messages\": initial_messages\n",
    "        }\n",
    "\n",
    "builder.add_node(InitialPromptNode()) # node_name: InitialPromptNode"
   ]
  },
  {
   "cell_type": "markdown",
   "id": "669dfb2f-f2d6-445c-8274-b329c35dcc3d",
   "metadata": {},
   "source": [
    "#### LLM 노드 : 대화를 통해, 사고 접수에 필요한 정보를 되물음"
   ]
  },
  {
   "cell_type": "code",
   "execution_count": 212,
   "id": "931a0fd2-87e5-4f6d-b6f3-b8bf5cd077d9",
   "metadata": {},
   "outputs": [
    {
     "data": {
      "text/plain": [
       "<langgraph.graph.state.StateGraph at 0x16a379570>"
      ]
     },
     "execution_count": 212,
     "metadata": {},
     "output_type": "execute_result"
    }
   ],
   "source": [
    "class LLMNode:\n",
    "    \"\"\" LLM을 통해, 대화 정보를 가져오는 노드\"\"\"\n",
    "    def __init__(self, llm):\n",
    "        self.llm  = llm.with_structured_output(AccidentChatBotResponse)\n",
    "\n",
    "    def __call__(self, state: AgentState) -> AgentState:\n",
    "        curr_messages = state['messages']\n",
    "        message = self.llm.invoke(curr_messages)\n",
    "        if isinstance(message.response, AccidentRegistrationInfo):\n",
    "            # 모든 데이터 수집이 종료된 경우\n",
    "            return {\n",
    "                \"info\": message.response\n",
    "            }\n",
    "        else:\n",
    "            # 추가적인 질문이 발생한 케이스\n",
    "            curr_messages.append(AIMessage(content=message.response.question))\n",
    "            return {\n",
    "                \"messages\": curr_messages\n",
    "            }\n",
    "\n",
    "llm_node = LLMNode(llm)\n",
    "builder.add_node(llm_node) # node_name: LLMNode"
   ]
  },
  {
   "cell_type": "markdown",
   "id": "c049d274-2888-4a9c-af56-281972a03eba",
   "metadata": {},
   "source": [
    "#### TextInput 노드 : 대화 입력창을 담당"
   ]
  },
  {
   "cell_type": "code",
   "execution_count": 213,
   "id": "184aedfe-54ca-4212-a742-0a26c8bfd309",
   "metadata": {},
   "outputs": [
    {
     "data": {
      "text/plain": [
       "<langgraph.graph.state.StateGraph at 0x16a379570>"
      ]
     },
     "execution_count": 213,
     "metadata": {},
     "output_type": "execute_result"
    }
   ],
   "source": [
    "class TextInputNode:\n",
    "\n",
    "    def __call__(self, state: AgentState) -> AgentState:\n",
    "        curr_messages = state['messages']\n",
    "        \n",
    "        last_message = curr_messages[-1]\n",
    "        last_message.pretty_print()\n",
    "        \n",
    "        message = HumanMessage(content=input(\"사용자 : \"))\n",
    "        curr_messages.append(message)\n",
    "        return {\n",
    "            \"messages\": curr_messages\n",
    "        }\n",
    "\n",
    "builder.add_node(TextInputNode())"
   ]
  },
  {
   "cell_type": "code",
   "execution_count": 214,
   "id": "7bc8d24f-0989-441a-a450-933deabf1c53",
   "metadata": {},
   "outputs": [
    {
     "data": {
      "text/plain": [
       "<langgraph.graph.state.StateGraph at 0x16a379570>"
      ]
     },
     "execution_count": 214,
     "metadata": {},
     "output_type": "execute_result"
    }
   ],
   "source": [
    "class SummaryNode:\n",
    "    def __call__(self, state: AgentState):\n",
    "        info = state.get('info')\n",
    "        \n",
    "        print(\"사고 접수가 완료되었습니다.\")\n",
    "        print(\"==================================\")\n",
    "        print(\"사고 일자 : \", info.acc_date)\n",
    "        print(\"사고 시각 : \", info.acc_time)\n",
    "        print(\"사고 위치 : \", info.location)\n",
    "        print(\"사고 원인 : \", info.reason)        \n",
    "\n",
    "\n",
    "builder.add_node(SummaryNode())"
   ]
  },
  {
   "cell_type": "markdown",
   "id": "1bab0fbf-31da-4938-9b19-e98ceb22dcee",
   "metadata": {},
   "source": [
    "### Edge: Agent의 작업 흐름을 결정하는 부분\n",
    "\n",
    "Edge는 Agent 시스템에서 각 노드의 작업 흐름을 결정합니다. START, END를 통해 작업의 시작과 끝을 지정하고, 노드 간 관계를 설정할수 있습니다."
   ]
  },
  {
   "cell_type": "code",
   "execution_count": 215,
   "id": "3479ba10-571c-4069-b712-2f2d8b91038b",
   "metadata": {},
   "outputs": [],
   "source": [
    "from langgraph.graph import START, END"
   ]
  },
  {
   "cell_type": "code",
   "execution_count": 216,
   "id": "b467f8c4-7511-4d3d-aabe-113e8019717a",
   "metadata": {},
   "outputs": [
    {
     "data": {
      "text/plain": [
       "<langgraph.graph.state.StateGraph at 0x16a379570>"
      ]
     },
     "execution_count": 216,
     "metadata": {},
     "output_type": "execute_result"
    }
   ],
   "source": [
    "builder.add_edge(START, 'InitialPromptNode')\n",
    "builder.add_edge('InitialPromptNode', 'TextInputNode')\n",
    "builder.add_edge('TextInputNode', 'LLMNode')\n",
    "builder.add_edge('SummaryNode', END)"
   ]
  },
  {
   "cell_type": "markdown",
   "id": "1ca1f06e-128f-4cf4-a029-c0ec20883d53",
   "metadata": {},
   "source": [
    "여기서 중요한 것은 agent 봇이 계속 질문이 이어나갈 것인지, 그만할 것인지 판단하는 것입니다. State에서 `info` 필드가 찼다는 것은 이미 필요한 정보를 모두 반영했다는 것을 말하므로, info여부가 None인지를 통해 그만 할것인지 계속 질문할 것인지를 판단하도록 하겠습니다."
   ]
  },
  {
   "cell_type": "code",
   "execution_count": 217,
   "id": "93e676e0-7609-409b-b0a0-3baaaef95337",
   "metadata": {},
   "outputs": [
    {
     "data": {
      "text/plain": [
       "<langgraph.graph.state.StateGraph at 0x16a379570>"
      ]
     },
     "execution_count": 217,
     "metadata": {},
     "output_type": "execute_result"
    }
   ],
   "source": [
    "def stop_agent_cond(state: AgentState):\n",
    "    if state.get('info') is not None:\n",
    "        return 'end'\n",
    "    else:\n",
    "        return 'continue'\n",
    "    \n",
    "builder.add_conditional_edges('LLMNode', stop_agent_cond, {\n",
    "     \"end\": 'SummaryNode',\n",
    "    \"continue\": 'TextInputNode'\n",
    "})"
   ]
  },
  {
   "cell_type": "markdown",
   "id": "29c1b96e-5724-4205-9c16-ab900edb2326",
   "metadata": {},
   "source": [
    "#### 위와 같이 정의한 Graph를 컴파일하기\n",
    "\n",
    "구조적으로는 아래와 같은 형태를 띕니다."
   ]
  },
  {
   "cell_type": "code",
   "execution_count": 218,
   "id": "d743d21b-1502-4396-9cf2-f2ef897afebc",
   "metadata": {},
   "outputs": [],
   "source": [
    "app = builder.compile()"
   ]
  },
  {
   "cell_type": "code",
   "execution_count": 219,
   "id": "30fe7fde-b4af-43e8-872c-a5d08973a475",
   "metadata": {},
   "outputs": [
    {
     "data": {
      "image/jpeg": "[encoded data removed]",
      "text/plain": [
       "<IPython.core.display.Image object>"
      ]
     },
     "metadata": {},
     "output_type": "display_data"
    }
   ],
   "source": [
    "from IPython.display import display, Image\n",
    "display(Image(app.get_graph().draw_mermaid_png()))"
   ]
  },
  {
   "cell_type": "markdown",
   "id": "96db255e-f3c4-45ba-af84-1e1adb26e9b1",
   "metadata": {},
   "source": [
    "위 코드 실행하기를 실행하면 아래와 같은 간단한 사고 접수 Agent를 설계할 수 있습니다."
   ]
  },
  {
   "cell_type": "code",
   "execution_count": 220,
   "id": "b93ca741-0532-440b-bb3d-f0b45a0145cd",
   "metadata": {},
   "outputs": [
    {
     "name": "stdout",
     "output_type": "stream",
     "text": [
      "==================================\u001b[1m Ai Message \u001b[0m==================================\n",
      "\n",
      "안녕하세요! 자동차 접수를 도와드리겠습니다. 언제 사고가 발생하셨나요?\n"
     ]
    },
    {
     "name": "stdin",
     "output_type": "stream",
     "text": [
      "사용자 :  어제 7시요\n"
     ]
    },
    {
     "name": "stdout",
     "output_type": "stream",
     "text": [
      "==================================\u001b[1m Ai Message \u001b[0m==================================\n",
      "\n",
      "사고가 발생한 위치는 어디인가요?\n"
     ]
    },
    {
     "name": "stdin",
     "output_type": "stream",
     "text": [
      "사용자 :  신림역이요\n"
     ]
    },
    {
     "name": "stdout",
     "output_type": "stream",
     "text": [
      "==================================\u001b[1m Ai Message \u001b[0m==================================\n",
      "\n",
      "사고가 발생한 이유는 무엇인가요?\n"
     ]
    },
    {
     "name": "stdin",
     "output_type": "stream",
     "text": [
      "사용자 :  교차로에서 달려오는 오토바이와 박았습니다.\n"
     ]
    },
    {
     "name": "stdout",
     "output_type": "stream",
     "text": [
      "사고 접수가 완료되었습니다.\n",
      "==================================\n",
      "사고 일자 :  2024-10-03\n",
      "사고 시각 :  07:00:00\n",
      "사고 위치 :  신림역\n",
      "사고 원인 :  교차로에서 달려오는 오토바이와 박았습니다.\n"
     ]
    }
   ],
   "source": [
    "for state in app.stream({\"messages\": []}):\n",
    "    pass"
   ]
  }
 ],
 "metadata": {
  "kernelspec": {
   "display_name": "Python 3 (ipykernel)",
   "language": "python",
   "name": "python3"
  },
  "language_info": {
   "codemirror_mode": {
    "name": "ipython",
    "version": 3
   },
   "file_extension": ".py",
   "mimetype": "text/x-python",
   "name": "python",
   "nbconvert_exporter": "python",
   "pygments_lexer": "ipython3",
   "version": "3.10.14"
  }
 },
 "nbformat": 4,
 "nbformat_minor": 5
}
