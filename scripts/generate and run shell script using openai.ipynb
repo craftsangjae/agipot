{
 "cells": [
  {
   "cell_type": "markdown",
   "id": "b1ee8ca0",
   "metadata": {},
   "source": [
    "# AI Agent 개발하기 (1) "
   ]
  },
  {
   "cell_type": "markdown",
   "id": "4785f6b1",
   "metadata": {},
   "source": [
    "## AI Agent의 구성요소 \n",
    "\n",
    "AI Agent란 특정 목표를 달성하기 위해 환경과 상호작용하며 자율적으로 행동하는 인공지능 시스템입니다.\n",
    "\n",
    "LLM(Large Language Model, 예: ChatGPT)은  주어진 텍스트 입력에 대해 자연어 처리를 통해 응답을 생성하는 모델로, 주로 대화나 텍스트 생성에 특화되어 있으며, 환경과의 지속적인 상호작용보다는 주어진 입력에 대한 응답 생성에 중점을 둡니다. 하지만 AI Agent는 환경과 지속적으로 상호작용하며, 지각, 두뇌, 행동 요소를 가집니다."
   ]
  },
  {
   "cell_type": "markdown",
   "id": "4a66ac0e",
   "metadata": {},
   "source": [
    "AI Agent는 3가지 요소로 구성되어 있습니다.\n",
    "\n",
    "<img src=\"../resources/assets/agents-components.png\" width=\"40%\">\n",
    "\n",
    "1. Perception (지각): AI 에이전트가 외부 환경으로부터 정보를 수집하고 인식하는 과정.\n",
    "2. Brain (두뇌): 수집된 정보를 처리하고 의사결정을 내리는 AI 에이전트의 중앙 처리 시스템.\n",
    "3. Action (행동): 두뇌에서 내린 의사결정에 따라 AI 에이전트가 환경에 반응하고 행동을 수행하는 과정.\n",
    "\n"
   ]
  },
  {
   "cell_type": "markdown",
   "id": "cb4977cb",
   "metadata": {},
   "source": [
    "## LLM Model API 가져오기\n",
    "\n",
    "```text\n",
    "# cd ../\n",
    "OPENAI_API_KEY=sk-prod-xxx\n",
    "````"
   ]
  },
  {
   "cell_type": "code",
   "execution_count": 80,
   "id": "80e423c8",
   "metadata": {},
   "outputs": [],
   "source": [
    "from openai import OpenAI, AsyncOpenAI\n",
    "import dotenv\n",
    "import os\n",
    "import platform\n",
    "from typing import List, Dict\n",
    "\n",
    "\n",
    "if not dotenv.load_dotenv(\"../.env\"):\n",
    "    raise ValueError(\"failed to load .env file. check your .env file\")\n",
    "    \n",
    "client = AsyncOpenAI(\n",
    "    api_key=os.environ.get('OPENAI_API_KEY')\n",
    ")"
   ]
  },
  {
   "cell_type": "markdown",
   "id": "201fdbfd",
   "metadata": {},
   "source": [
    "## 1. 프롬프트 작성하기\n",
    "\n",
    "[Generating Code](https://www.promptingguide.ai/applications/coding)을 기반으로 작성하였습니다 \n",
    "\n",
    "````markdown\n",
    "assistant>>>\n",
    "You are a helpful code assistant. \n",
    "- Do not explain the code. \n",
    "- Only generate the code block.\n",
    "- Include code to display the output (stdout) for result verification.\n",
    "- Programming language: {language}. \n",
    "- Current platform: {platform.platform()}\n",
    "\n",
    "[Output format]\n",
    "```{shell}\n",
    "\n",
    "```\n",
    "\n",
    "user>>>\n",
    "\n",
    "````"
   ]
  },
  {
   "cell_type": "code",
   "execution_count": 186,
   "id": "2a95f84a",
   "metadata": {},
   "outputs": [],
   "source": [
    "def prompt_for_generating_code(user_message:str, language:str):\n",
    "    return [\n",
    "        {\n",
    "            \"role\": \"assistant\",\n",
    "            \"content\": \n",
    "f\"\"\"You are a helpful code assistant. \n",
    "- Do not explain the code. \n",
    "- Only generate the code block.\n",
    "- Include code to display the output (stdout) for result verification.\n",
    "- Programming language: {language}. \n",
    "- Current platform: {platform.platform()}\n",
    "\n",
    "[Output format]\n",
    "```{language}\n",
    "\n",
    "```\n",
    "\"\"\"\n",
    "        },\n",
    "        {\n",
    "            \"role\": \"user\",\n",
    "            \"content\": user_message            \n",
    "        }\n",
    "    ]\n",
    "\n",
    "def extract_code_block(text: str, language:str) -> str:\n",
    "    import re\n",
    "    if match := re.search(fr'```{language}\\s+([\\s\\S]*?)\\s+```', text):\n",
    "        return match.group(1).strip()\n",
    "    \n",
    "    raise ValueError(\"Fail to find code block\")"
   ]
  },
  {
   "cell_type": "markdown",
   "id": "c9cfb0f6",
   "metadata": {},
   "source": [
    "### 테스트 질문\n",
    "\n",
    "1. jupyter notebook을 실행하고 있는 pid를 찾아주세요\n",
    "2. jupyter notebook의 ip와 port를 가져와 주세요"
   ]
  },
  {
   "cell_type": "code",
   "execution_count": 193,
   "id": "15cf9526",
   "metadata": {},
   "outputs": [],
   "source": [
    "TEST_PROMPT1 = 'jupyter notebook을 실행하고 있는 pid를 찾아주세요'\n",
    "TEST_PROMPT2 = '현재 동작중인 jupyter notebook의 ip와 port를 가져와 주세요'"
   ]
  },
  {
   "cell_type": "code",
   "execution_count": 194,
   "id": "984df3d4",
   "metadata": {},
   "outputs": [],
   "source": [
    "async def call_openai_chat(\n",
    "    messages:List[Dict], \n",
    "    model=\"gpt-4o\"\n",
    "):\n",
    "    output = await client.chat.completions.create(\n",
    "        model=model, messages=messages\n",
    "    )    \n",
    "    return output.choices[0].message.content"
   ]
  },
  {
   "cell_type": "code",
   "execution_count": 195,
   "id": "47503c20",
   "metadata": {},
   "outputs": [
    {
     "data": {
      "text/plain": [
       "'jupyter notebook list'"
      ]
     },
     "execution_count": 195,
     "metadata": {},
     "output_type": "execute_result"
    }
   ],
   "source": [
    "programming = 'shell'\n",
    "\n",
    "messages = prompt_for_generating_code(\n",
    "    TEST_PROMPT2, \n",
    "    programming\n",
    ")\n",
    "\n",
    "output = await call_openai_chat(messages=messages)\n",
    "\n",
    "extract_code_block(output, programming)"
   ]
  },
  {
   "cell_type": "code",
   "execution_count": 198,
   "id": "701bb17e",
   "metadata": {},
   "outputs": [
    {
     "data": {
      "text/plain": [
       "'jupyter notebook list'"
      ]
     },
     "execution_count": 198,
     "metadata": {},
     "output_type": "execute_result"
    }
   ],
   "source": [
    "extract_code_block(output, programming)"
   ]
  },
  {
   "cell_type": "markdown",
   "id": "f0e73828",
   "metadata": {},
   "source": [
    "### 실제 Shell Script을 실행하는 코드"
   ]
  },
  {
   "cell_type": "code",
   "execution_count": 134,
   "id": "af1f9045",
   "metadata": {},
   "outputs": [],
   "source": [
    "def run_shell_script(shell_script: str):\n",
    "    import subprocess\n",
    "    result = subprocess.run(\n",
    "        shell_script, \n",
    "        shell=True, \n",
    "        capture_output=True, \n",
    "        text=True\n",
    "    )\n",
    "    return {\n",
    "        \"returncode\": result.returncode,\n",
    "        \"stdout\": result.stdout,\n",
    "        \"stderr\": result.stderr\n",
    "    }"
   ]
  },
  {
   "cell_type": "markdown",
   "id": "f7263c51",
   "metadata": {},
   "source": [
    "## ChatGPT가 반환한 결과 프롬프트들\n",
    "\n",
    "ChatGPT의 프롬프트가 종종 실패할 수 있습니다. 이 경우 대체 프롬프트를 생성해서 실행해주어야 합니다.\n",
    "\n",
    "1. 첫번째 시도 > 실패\n",
    "````shell\n",
    "pgrep jupyter\n",
    "````\n",
    "\n",
    "2. 두번째 시도 > 성공\n",
    "\n",
    "````shell\n",
    "ps -ax | grep jupyter-notebook | grep -v grep | awk '{print $1}'\n",
    "\n",
    ">>> 16630\n",
    "````\n",
    "\n",
    "3. 세번째 시도 > 성공\n",
    "\n",
    "````shell\n",
    "!ps aux | grep jupyter | grep -v grep | awk '{print $2}'\n",
    "\n",
    ">>> 16630\n",
    "````\n",
    "\n",
    "4. 네번째 시도 > 성공\n",
    "\n",
    "````shell\n",
    "jupyter_pid=$(pgrep -f \"jupyter-notebook\")\\necho \"Jupyter Notebook PID: $jupyter_pid\"\n",
    "\n",
    ">>> Jupyter Notebook PID:\n",
    "````"
   ]
  },
  {
   "cell_type": "markdown",
   "id": "63154e53",
   "metadata": {},
   "source": [
    "#### 첫번째 시도"
   ]
  },
  {
   "cell_type": "code",
   "execution_count": 164,
   "id": "5a94a188",
   "metadata": {},
   "outputs": [
    {
     "name": "stdout",
     "output_type": "stream",
     "text": [
      "IN>\n",
      "pgrep jupyter\n",
      "\n",
      "OUT>\n",
      "{'returncode': 1, 'stdout': '', 'stderr': ''}\n"
     ]
    }
   ],
   "source": [
    "# 첫 번째 시도\n",
    "code = 'pgrep jupyter'\n",
    "print(f\"IN>\\n{code}\\n\\nOUT>\\n{run_shell_script(code)}\")"
   ]
  },
  {
   "cell_type": "markdown",
   "id": "925f3d02",
   "metadata": {},
   "source": [
    "#### 두번째 시도"
   ]
  },
  {
   "cell_type": "code",
   "execution_count": 165,
   "id": "e3dea896",
   "metadata": {},
   "outputs": [
    {
     "name": "stdout",
     "output_type": "stream",
     "text": [
      "IN>\n",
      "ps -ax | grep jupyter-notebook | grep -v grep | awk '{print $1}'\n",
      "\n",
      "OUT>\n",
      "{'returncode': 0, 'stdout': '16630\\n', 'stderr': ''}\n"
     ]
    }
   ],
   "source": [
    "code = \"ps -ax | grep jupyter-notebook | grep -v grep | awk '{print $1}'\"\n",
    "print(f\"IN>\\n{code}\\n\\nOUT>\\n{run_shell_script(code)}\")"
   ]
  },
  {
   "cell_type": "markdown",
   "id": "2e53b362",
   "metadata": {},
   "source": [
    "#### 세번째 시도"
   ]
  },
  {
   "cell_type": "code",
   "execution_count": 166,
   "id": "02aae53e",
   "metadata": {},
   "outputs": [
    {
     "name": "stdout",
     "output_type": "stream",
     "text": [
      "IN>\n",
      "ps aux | grep jupyter | grep -v grep | awk '{print $2}'\n",
      "\n",
      "OUT>\n",
      "{'returncode': 0, 'stdout': '16630\\n', 'stderr': ''}\n"
     ]
    }
   ],
   "source": [
    "code = \"ps aux | grep jupyter | grep -v grep | awk '{print $2}'\"\n",
    "print(f\"IN>\\n{code}\\n\\nOUT>\\n{run_shell_script(code)}\")"
   ]
  },
  {
   "cell_type": "markdown",
   "id": "668dedb0",
   "metadata": {},
   "source": [
    "#### 네번째 시도"
   ]
  },
  {
   "cell_type": "code",
   "execution_count": 167,
   "id": "7a88ca84",
   "metadata": {},
   "outputs": [
    {
     "name": "stdout",
     "output_type": "stream",
     "text": [
      "IN>\n",
      "jupyter_pid=$(pgrep -f \"jupyter-notebook\")\n",
      "echo \"Jupyter Notebook PID: $jupyter_pid\"\n",
      "\n",
      "OUT>\n",
      "{'returncode': 0, 'stdout': 'Jupyter Notebook PID: \\n', 'stderr': ''}\n"
     ]
    }
   ],
   "source": [
    "code = '''jupyter_pid=$(pgrep -f \"jupyter-notebook\")\\necho \"Jupyter Notebook PID: $jupyter_pid\"'''\n",
    "print(f\"IN>\\n{code}\\n\\nOUT>\\n{run_shell_script(code)}\")"
   ]
  },
  {
   "cell_type": "markdown",
   "id": "6814f54a",
   "metadata": {},
   "source": [
    "### 실패한 케이스에 대해 재반복하는 프롬프트 작성\n"
   ]
  },
  {
   "cell_type": "code",
   "execution_count": null,
   "id": "423adfe4",
   "metadata": {},
   "outputs": [],
   "source": [
    "def prompt_for_generating_code(user_message:str, language:str):\n",
    "    return [\n",
    "        {\n",
    "            \"role\": \"assistant\",\n",
    "            \"content\": \n",
    "f\"\"\"You are a helpful code assistant. \n",
    "- Do not explain the code. \n",
    "- Only generate the code block.\n",
    "- Include code to display the output (stdout) for result verification.\n",
    "- Programming language: {language}. \n",
    "- Current platform: {platform.platform()}\n",
    "\n",
    "[Output format]\n",
    "```{language}\n",
    "\n",
    "```\n",
    "\"\"\"\n",
    "        },\n",
    "        {\n",
    "            \"role\": \"user\",\n",
    "            \"content\": user_message            \n",
    "        }\n",
    "    ]\n",
    "\n",
    "def extract_code_block(text: str, language:str) -> str:\n",
    "    import re\n",
    "    if match := re.search(fr'```{language}\\s+([\\s\\S]*?)\\s+```', text):\n",
    "        return match.group(1).strip()\n",
    "    \n",
    "    raise ValueError(\"Fail to find code block\")"
   ]
  }
 ],
 "metadata": {
  "kernelspec": {
   "display_name": "Python 3 (ipykernel)",
   "language": "python",
   "name": "python3"
  },
  "language_info": {
   "codemirror_mode": {
    "name": "ipython",
    "version": 3
   },
   "file_extension": ".py",
   "mimetype": "text/x-python",
   "name": "python",
   "nbconvert_exporter": "python",
   "pygments_lexer": "ipython3",
   "version": "3.10.14"
  }
 },
 "nbformat": 4,
 "nbformat_minor": 5
}
