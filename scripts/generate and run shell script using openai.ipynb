{
 "cells": [
  {
   "cell_type": "markdown",
   "id": "b1ee8ca0",
   "metadata": {},
   "source": [
    "# AI Agent 개발하기 (1) "
   ]
  },
  {
   "cell_type": "markdown",
   "id": "4785f6b1",
   "metadata": {},
   "source": [
    "## AI Agent의 구성요소 \n",
    "\n",
    "AI Agent란 특정 목표를 달성하기 위해 환경과 상호작용하며 자율적으로 행동하는 인공지능 시스템입니다.\n",
    "\n",
    "LLM(Large Language Model, 예: ChatGPT)은  주어진 텍스트 입력에 대해 자연어 처리를 통해 응답을 생성하는 모델로, 주로 대화나 텍스트 생성에 특화되어 있으며, 환경과의 지속적인 상호작용보다는 주어진 입력에 대한 응답 생성에 중점을 둡니다. 하지만 AI Agent는 환경과 지속적으로 상호작용하며, 지각, 두뇌, 행동 요소를 가집니다."
   ]
  },
  {
   "cell_type": "markdown",
   "id": "4a66ac0e",
   "metadata": {},
   "source": [
    "AI Agent는 3가지 요소로 구성되어 있습니다.\n",
    "\n",
    "<img src=\"../resources/assets/agents-components.png\" width=\"40%\">\n",
    "\n",
    "1. Perception (지각): AI 에이전트가 외부 환경으로부터 정보를 수집하고 인식하는 과정.\n",
    "2. Brain (두뇌): 수집된 정보를 처리하고 의사결정을 내리는 AI 에이전트의 중앙 처리 시스템.\n",
    "3. Action (행동): 두뇌에서 내린 의사결정에 따라 AI 에이전트가 환경에 반응하고 행동을 수행하는 과정.\n",
    "\n"
   ]
  },
  {
   "cell_type": "markdown",
   "id": "5c02740e-4d16-4c0c-a3fe-98ef549cb4dc",
   "metadata": {},
   "source": [
    "### SETUP"
   ]
  },
  {
   "cell_type": "markdown",
   "id": "cb4977cb",
   "metadata": {},
   "source": [
    "#### OpenAI API KEY를 환경변수에 등록하기\n",
    "\n",
    "```text\n",
    "OPENAI_API_KEY=sk-prod-xxx\n",
    "````"
   ]
  },
  {
   "cell_type": "code",
   "execution_count": 1,
   "id": "80e423c8",
   "metadata": {},
   "outputs": [],
   "source": [
    "import dotenv\n",
    "import os\n",
    "\n",
    "dotenv.load_dotenv(\"../.env\")\n",
    "\n",
    "if not \"OPENAI_API_KEY\" in os.environ:\n",
    "    raise Exception(\"OPENAI_API_KEY가 환경변수에 존재하지 않습니다.\")"
   ]
  },
  {
   "cell_type": "markdown",
   "id": "c8cdecc9",
   "metadata": {},
   "source": [
    "#### Langchain OpenAI 불러오기"
   ]
  },
  {
   "cell_type": "code",
   "execution_count": 2,
   "id": "ee1ede03",
   "metadata": {},
   "outputs": [],
   "source": [
    "from langchain_openai import ChatOpenAI\n",
    "\n",
    "model = ChatOpenAI(model=\"gpt-3.5-turbo\", temperature=0)"
   ]
  },
  {
   "cell_type": "markdown",
   "id": "732ca08d",
   "metadata": {},
   "source": [
    "## 간단한 AI Agent 봇 만들기 : ShellBot\n",
    "\n",
    "> 유저의 요청에 따라 Shell 명령어를 작성 후, 실행하는 AI Agent 봇 만들기\n",
    "\n",
    "위의 목적을 수행하기 위해서는 크게 3단계가 필요합니다.\n",
    "\n",
    "1. Shell 명령어 생성 요청하는 프롬프트 만들기\n",
    "2. 프롬프트에 대한 응답값을 파싱하고, 이를 실행하기\n",
    "3. 실행한 결과를 AI Agent에 전달 후 결과를 받기"
   ]
  },
  {
   "cell_type": "markdown",
   "id": "2c1ddd03",
   "metadata": {},
   "source": [
    "### 1.Shell 명령어를 생성하도록 요청하는 프롬프트 만들기\n",
    "\n",
    "LLM 모델들은 Text 기반으로 동작합니다. 입력값도 Text로 받고, 출력값도 Text로 출력합니다.\n",
    "\n",
    "우리가 원하는 형태의 출력값을 구성하기 위해서는 우리는 입력 프롬프트를 그에 맞게 구성해야 합니다."
   ]
  },
  {
   "cell_type": "markdown",
   "id": "49da464c",
   "metadata": {},
   "source": [
    "**목표**\n",
    "> 유저의 요청에 따라, 실행가능한 Shell 명령어를 작성하기\n",
    "\n",
    "**예시코드**\n",
    "\n",
    "1. `jupyter notebook을 실행하고 있는 pid를 찾아주세요`\n",
    "2. `jupyter notebook의 ip와 port를 가져와 주세요`\n",
    "3. `현재 컴퓨터에 할당된 외부 IP와 wifi 내 할당된 내부 IP를 각각 보여 주세요`"
   ]
  },
  {
   "cell_type": "code",
   "execution_count": 3,
   "id": "c2047d16",
   "metadata": {},
   "outputs": [],
   "source": [
    "import platform\n",
    "current_platform = platform.platform()\n",
    "language = 'shell'\n",
    "\n",
    "TEST_PROMPT1 = 'jupyter notebook을 실행하고 있는 pid를 찾아주세요'\n",
    "TEST_PROMPT2 = '현재 동작중인 jupyter notebook의 ip와 port를 가져와 주세요'\n",
    "TEST_PROMPT3 = '현재 컴퓨터에 할당된 외부 IP와 wifi 내 할당된 내부 IP를 각각 보여 주세요'"
   ]
  },
  {
   "cell_type": "markdown",
   "id": "718071aa-f72f-4246-a0df-11590faea625",
   "metadata": {},
   "source": [
    "우리가 받고 싶은 응답값은 Shell Script Code 입니다. 이를 위해서는 프롬프트 입력에 필수적으로 \"어떻게 출력값을 반환할지\"를 요청해야 합니다. "
   ]
  },
  {
   "cell_type": "code",
   "execution_count": 8,
   "id": "2fcbfea0-86ac-4023-a42f-b1b86dc19eed",
   "metadata": {},
   "outputs": [],
   "source": [
    "from typing import Dict, Any\n",
    "from langchain.schema.output_parser import BaseOutputParser\n",
    "\n",
    "class CodeOutputParser(BaseOutputParser[Dict[str, Any]]):\n",
    "    \"\"\"코드 블록과 언어 정보를 추출하는 커스텀 OutputParser\"\"\"\n",
    "\n",
    "    def parse(self, text: str) -> Dict[str, Any]:\n",
    "        import re\n",
    "        # 마크다운 코드 블록 패턴\n",
    "        pattern = r'```(\\w+)?\\s*([\\s\\S]+?)\\s*```'\n",
    "        matches = re.findall(pattern, text, re.MULTILINE)\n",
    "\n",
    "        if not matches:\n",
    "            raise ValueError(\"No code block found in the output\")\n",
    "\n",
    "        # 첫 번째 코드 블록 사용\n",
    "        language, code = matches[0]\n",
    "\n",
    "        # 언어가 지정되지 않은 경우 'unknown'으로 설정\n",
    "        language = language.strip() if language else 'unknown'\n",
    "        code = code.strip()\n",
    "\n",
    "        return {\n",
    "            \"language\": language,\n",
    "            \"code\": code\n",
    "        }\n",
    "\n",
    "    def get_format_instructions(self) -> str:\n",
    "        return (\n",
    "            \"Your response should be formatted as a Markdown code block. \"\n",
    "            \"Specify the programming language after the opening triple backticks. \"\n",
    "            \"For example:\\n\\n\"\n",
    "            \"```python\\n\"\n",
    "            \"print('Hello, World!')\\n\"\n",
    "            \"```\"\n",
    "        )"
   ]
  },
  {
   "cell_type": "code",
   "execution_count": 9,
   "id": "57dc8b64",
   "metadata": {},
   "outputs": [
    {
     "name": "stdout",
     "output_type": "stream",
     "text": [
      "Your response should be formatted as a Markdown code block. Specify the programming language after the opening triple backticks. For example:\n",
      "\n",
      "```python\n",
      "print('Hello, World!')\n",
      "```\n"
     ]
    }
   ],
   "source": [
    "from langchain.prompts import ChatPromptTemplate, HumanMessagePromptTemplate\n",
    "\n",
    "code_output_parser = CodeOutputParser()\n",
    "format_instructions = code_output_parser.get_format_instructions()\n",
    "print(format_instructions)"
   ]
  },
  {
   "cell_type": "markdown",
   "id": "9c07414e-c8e7-4dd7-b003-dbe50cdc0372",
   "metadata": {},
   "source": [
    "#### System Message\n",
    "\n",
    "시스템 메시지에서는 \n",
    "1. 시스템의 역할 (role)\n",
    "2. 지켜야할 규칙\n",
    "3. 출력값의 형태\n",
    "\n",
    "를 지정합니다."
   ]
  },
  {
   "cell_type": "code",
   "execution_count": 10,
   "id": "85e85b1c",
   "metadata": {},
   "outputs": [],
   "source": [
    "from langchain_core.prompts import SystemMessagePromptTemplate\n",
    "\n",
    "system_template = \"\"\"You are a helpful code assistant. Generate executable code that fulfills the user's goal.\n",
    "- Include a code block that addresses the user’s need.\n",
    "- Provide a single, error-free code block\n",
    "- Display output (stdout) for result verification if applicable.\n",
    "- Programming language: {language}.\n",
    "- Current platform: {current_platform}.\n",
    "\n",
    "{format_instructions}\"\"\"\n",
    "\n",
    "system_message = SystemMessagePromptTemplate.from_template(system_template)"
   ]
  },
  {
   "cell_type": "code",
   "execution_count": 11,
   "id": "11f6b4c9-0277-49bc-b16b-ef35897e3744",
   "metadata": {},
   "outputs": [
    {
     "name": "stdout",
     "output_type": "stream",
     "text": [
      "프롬프트 >>\n",
      "You are a helpful code assistant. Generate executable code that fulfills the user's goal.\n",
      "- Include a code block that addresses the user’s need.\n",
      "- Provide a single, error-free code block\n",
      "- Display output (stdout) for result verification if applicable.\n",
      "- Programming language: shell.\n",
      "- Current platform: macOS-14.6.1-arm64-arm-64bit.\n",
      "\n",
      "Your response should be formatted as a Markdown code block. Specify the programming language after the opening triple backticks. For example:\n",
      "\n",
      "```python\n",
      "print('Hello, World!')\n",
      "```\n"
     ]
    }
   ],
   "source": [
    "print(\"프롬프트 >>\")\n",
    "\n",
    "print(system_message.format(\n",
    "    language=language,\n",
    "    current_platform=current_platform,\n",
    "    format_instructions=format_instructions\n",
    ").content)"
   ]
  },
  {
   "cell_type": "markdown",
   "id": "d7f90953-e676-4dad-9bd9-567dbb85597e",
   "metadata": {},
   "source": [
    "#### 2. Human Message\n",
    "\n",
    "휴먼메시지에서는 우리가 실행하길 원하는 목표를 지정합니다. "
   ]
  },
  {
   "cell_type": "code",
   "execution_count": 14,
   "id": "fbd38c87-a7d9-4946-a9bd-87ea6a1d42ba",
   "metadata": {},
   "outputs": [],
   "source": [
    "from langchain_core.prompts import HumanMessagePromptTemplate\n",
    "\n",
    "human_template = '''goal: {goal}'''\n",
    "human_message = HumanMessagePromptTemplate.from_template(human_template)"
   ]
  },
  {
   "cell_type": "markdown",
   "id": "b5f1c756-00c4-4e1d-afa9-c8ff66fa78dc",
   "metadata": {},
   "source": [
    "#### 3. 시스템 메시지와 휴먼 메시지를 채팅 프롬프트로 묶기\n",
    "\n",
    "System Message와 Human Message를 채팅과 같은 구조로 묶어줍니다. \n"
   ]
  },
  {
   "cell_type": "code",
   "execution_count": 15,
   "id": "b27074f8-42c3-4091-9491-93e3133379ad",
   "metadata": {},
   "outputs": [],
   "source": [
    "from langchain_core.prompts import ChatPromptTemplate\n",
    "\n",
    "code_generation_prompt = ChatPromptTemplate(\n",
    "    messages=[system_message, human_message],\n",
    "    input_variables=[\"goal\", \"language\"],\n",
    "    partial_variables={\"format_instructions\": format_instructions, \"current_platform\": current_platform}\n",
    ")"
   ]
  },
  {
   "cell_type": "code",
   "execution_count": 17,
   "id": "84884a02-f3b2-4d35-b6e8-1f05f02b1d44",
   "metadata": {},
   "outputs": [
    {
     "name": "stdout",
     "output_type": "stream",
     "text": [
      "생성된 프롬프트>>>\n",
      "[system]\n",
      "You are a helpful code assistant. Generate executable code that fulfills the user's goal.\n",
      "- Include a code block that addresses the user’s need.\n",
      "- Provide a single, error-free code block\n",
      "- Display output (stdout) for result verification if applicable.\n",
      "- Programming language: node.\n",
      "- Current platform: macOS-14.6.1-arm64-arm-64bit.\n",
      "\n",
      "Your response should be formatted as a Markdown code block. Specify the programming language after the opening triple backticks. For example:\n",
      "\n",
      "```python\n",
      "print('Hello, World!')\n",
      "```\n",
      "\n",
      "[human]\n",
      "goal: 현재 시간을 출력해주세요\n",
      "\n"
     ]
    }
   ],
   "source": [
    "prompt_value = code_generation_prompt.format_prompt(\n",
    "    goal='현재 시간을 출력해주세요',\n",
    "    language='node'\n",
    ")\n",
    "\n",
    "messages = prompt_value.to_messages()\n",
    "\n",
    "print(\"생성된 프롬프트>>>\")\n",
    "for message in messages:\n",
    "    print(f\"[{message.type}]\\n{message.content}\\n\")"
   ]
  },
  {
   "cell_type": "markdown",
   "id": "e8474296-0ecb-410c-95a8-1727a05cb897",
   "metadata": {},
   "source": [
    "### 2. 프롬프트를 LLM 모델에 넣고 실행하기\n",
    "\n",
    "LLM 모델에 담아서 호출합니다 "
   ]
  },
  {
   "cell_type": "code",
   "execution_count": 18,
   "id": "8373aa90-7886-4abf-8f4a-cad2da72d212",
   "metadata": {},
   "outputs": [
    {
     "data": {
      "text/plain": [
       "AIMessage(content='```javascript\\nconst now = new Date();\\nconsole.log(now);\\n```', additional_kwargs={'refusal': None}, response_metadata={'token_usage': {'completion_tokens': 14, 'prompt_tokens': 132, 'total_tokens': 146, 'completion_tokens_details': {'reasoning_tokens': 0}}, 'model_name': 'gpt-3.5-turbo-0125', 'system_fingerprint': None, 'finish_reason': 'stop', 'logprobs': None}, id='run-bfc2c88a-671e-47f7-aaa7-5a7b4d47bc25-0', usage_metadata={'input_tokens': 132, 'output_tokens': 14, 'total_tokens': 146})"
      ]
     },
     "execution_count": 18,
     "metadata": {},
     "output_type": "execute_result"
    }
   ],
   "source": [
    "model_output = model.invoke(messages)\n",
    "model_output"
   ]
  },
  {
   "cell_type": "markdown",
   "id": "d0bf9a7a-bd1f-4207-a58d-f7072a0fe492",
   "metadata": {},
   "source": [
    "### 3. LLM 출력값을 파싱하기\n",
    "\n",
    "위의 응답값을 파싱하면 아래와 같이 출력됩니다."
   ]
  },
  {
   "cell_type": "code",
   "execution_count": 19,
   "id": "36a2c2f1",
   "metadata": {},
   "outputs": [
    {
     "data": {
      "text/plain": [
       "{'language': 'javascript',\n",
       " 'code': 'const now = new Date();\\nconsole.log(now);'}"
      ]
     },
     "execution_count": 19,
     "metadata": {},
     "output_type": "execute_result"
    }
   ],
   "source": [
    "parsed_output = code_output_parser.parse(model_output.content)\n",
    "parsed_output"
   ]
  },
  {
   "cell_type": "code",
   "execution_count": 21,
   "id": "d445dc85-367a-4988-8faf-d90c1321411a",
   "metadata": {},
   "outputs": [
    {
     "data": {
      "text/plain": [
       "{'language': 'javascript',\n",
       " 'code': 'const now = new Date();\\nconsole.log(now);'}"
      ]
     },
     "execution_count": 21,
     "metadata": {},
     "output_type": "execute_result"
    }
   ],
   "source": [
    "code_output_parser.invoke(model_output)"
   ]
  },
  {
   "cell_type": "markdown",
   "id": "ba57cf34-c718-4773-a753-01c75b4279a1",
   "metadata": {},
   "source": [
    "### 4. 위의 코드를 실제로 실행하기\n",
    "\n",
    "위에서 파싱한 결과를 넣어서 처리하면 아래와 같습니다 "
   ]
  },
  {
   "cell_type": "code",
   "execution_count": 20,
   "id": "5bd83160-e9ac-49a8-8a49-dd6bba32a642",
   "metadata": {},
   "outputs": [],
   "source": [
    "from langchain.schema.runnable import RunnableSerializable\n",
    "from typing import Dict, Any, Optional\n",
    "import tempfile\n",
    "import logging\n",
    "import subprocess\n",
    "import tempfile\n",
    "logging.basicConfig()\n",
    "\n",
    "\n",
    "class CodeExecutor(RunnableSerializable):\n",
    "    def invoke(self, inputs: Dict[str, Any], config:Optional[Dict[str,Any]]=None) -> Dict[str, Any]:\n",
    "        code = inputs['code']\n",
    "        language = inputs['language']\n",
    "        \n",
    "        result = self._execute(code, language)\n",
    "        return {\n",
    "            \"code\": code,\n",
    "            \"execution_result\": result\n",
    "        }\n",
    "\n",
    "    def _execute(self, code_block:str, language: str):\n",
    "        \"\"\" 주어진 Code block을 실행시키기 \"\"\"\n",
    "        def _write_and_run(execute_command, code):\n",
    "            with tempfile.NamedTemporaryFile(mode='w') as temp_file:\n",
    "                temp_file.write(code)\n",
    "                temp_file.flush()            \n",
    "                temp_file_path = temp_file.name\n",
    "                return subprocess.run(f'{execute_command} \"{temp_file_path}\"', shell=True, capture_output=True, text=True)\n",
    "        \n",
    "        if language in ('shell', 'bash'):\n",
    "            output = _write_and_run('bash', code_block)\n",
    "        elif language in ('python', 'python3'):\n",
    "            output = _write_and_run('python', code_block)\n",
    "        elif language in ('node', 'javascript'):\n",
    "            output = _write_and_run('node', code_block)\n",
    "        else:\n",
    "            raise ValueError(f\"Not Available language: {language}\")\n",
    "            \n",
    "        return {\n",
    "            \"returncode\": output.returncode,\n",
    "            \"result\": output.stderr.strip() if output.returncode else output.stdout.strip(),\n",
    "        }"
   ]
  },
  {
   "cell_type": "code",
   "execution_count": 22,
   "id": "db2699a4-e629-4ea8-9c6a-456db1367fca",
   "metadata": {},
   "outputs": [
    {
     "data": {
      "text/plain": [
       "{'code': 'const now = new Date();\\nconsole.log(now);',\n",
       " 'execution_result': {'returncode': 0,\n",
       "  'result': '\\x1b[35m2024-09-24T13:09:15.006Z\\x1b[39m'}}"
      ]
     },
     "execution_count": 22,
     "metadata": {},
     "output_type": "execute_result"
    }
   ],
   "source": [
    "code_executor = CodeExecutor()\n",
    "\n",
    "code_executor.invoke(parsed_output)"
   ]
  },
  {
   "cell_type": "markdown",
   "id": "de14452f-d4fb-44cf-8de8-eb1eead060fb",
   "metadata": {},
   "source": [
    "## 다른 명령어들 실행해보기\n",
    "\n",
    "Langchain에서는 여러 컴포넌트를 Chain으로 정의 후 구성할 수 있습니다 "
   ]
  },
  {
   "cell_type": "code",
   "execution_count": 23,
   "id": "41d05b7c-053a-4cdf-8af3-59d2aba0b9fd",
   "metadata": {},
   "outputs": [],
   "source": [
    "chain = (\n",
    "    code_generation_prompt # LLM 모델에 넣을 프롬프트 생성\n",
    "    | model # LLM 모델 호출\n",
    "    | code_output_parser # LLM 모델의 출력값 파싱\n",
    "    | code_executor # 코드를 실행시키기\n",
    ")"
   ]
  },
  {
   "cell_type": "code",
   "execution_count": 24,
   "id": "69d65e55-8c50-419b-8dff-eddc9bb9b804",
   "metadata": {},
   "outputs": [
    {
     "data": {
      "text/plain": [
       "{'code': 'curl ifconfig.me',\n",
       " 'execution_result': {'returncode': 0, 'result': '218.48.227.56'}}"
      ]
     },
     "execution_count": 24,
     "metadata": {},
     "output_type": "execute_result"
    }
   ],
   "source": [
    "chain.invoke({\n",
    "    'goal': \"외부 IP 주소를 알려줘\",\n",
    "    'language': \"shell\"\n",
    "})"
   ]
  },
  {
   "cell_type": "code",
   "execution_count": 25,
   "id": "c8ef164d-4dc4-402e-8643-f01743b75552",
   "metadata": {},
   "outputs": [
    {
     "data": {
      "text/plain": [
       "{'code': 'import socket\\n\\n# Get the external IP address using a socket connection\\nexternal_ip = socket.gethostbyname(socket.gethostname())\\n\\nprint(\"External IP Address:\", external_ip)',\n",
       " 'execution_result': {'returncode': 0,\n",
       "  'result': 'External IP Address: 127.0.0.1'}}"
      ]
     },
     "execution_count": 25,
     "metadata": {},
     "output_type": "execute_result"
    }
   ],
   "source": [
    "chain.invoke({\n",
    "    'goal': \"외부 IP 주소를 알려줘\",\n",
    "    'language': \"python\"\n",
    "})"
   ]
  },
  {
   "cell_type": "code",
   "execution_count": 26,
   "id": "8e3ca223-8a32-4ea9-a84a-deb9465d8f0b",
   "metadata": {},
   "outputs": [
    {
     "data": {
      "text/plain": [
       "{'code': \"const { exec } = require('child_process');\\n\\nexec('curl ifconfig.me', (error, stdout, stderr) => {\\n    if (error) {\\n        console.error(`exec error: ${error}`);\\n        return;\\n    }\\n    console.log(`External IP Address: ${stdout}`);\\n});\",\n",
       " 'execution_result': {'returncode': 0,\n",
       "  'result': 'External IP Address: 218.48.227.56'}}"
      ]
     },
     "execution_count": 26,
     "metadata": {},
     "output_type": "execute_result"
    }
   ],
   "source": [
    "chain.invoke({\n",
    "    'goal': \"현재 컴퓨터의 외부 IP 주소를 알려줘\",\n",
    "    'language': \"node\"\n",
    "})"
   ]
  },
  {
   "cell_type": "code",
   "execution_count": 27,
   "id": "211f13dd-fa60-41b6-a1f1-8aa06f934f91",
   "metadata": {},
   "outputs": [
    {
     "data": {
      "text/plain": [
       "{'code': 'import os\\n\\n# Directory path\\npath = \"/Users/blockgrammer/Downloads\"\\n\\n# List all PDF files in the directory\\npdf_files = [f for f in os.listdir(path) if f.endswith(\\'.pdf\\')]\\n\\n# Print the list of PDF files\\nfor pdf_file in pdf_files:\\n    print(pdf_file)',\n",
       " 'execution_result': {'returncode': 0,\n",
       "  'result': 'TTT (1).pdf\\nTTT.pdf\\nPMS 설계.pdf\\nTTT (2).pdf\\nTTT (3).pdf'}}"
      ]
     },
     "execution_count": 27,
     "metadata": {},
     "output_type": "execute_result"
    }
   ],
   "source": [
    "chain.invoke({\n",
    "    'goal': \"/Users/blockgrammer/Downloads 경로 하위의 pdf 파일 목록을 가져와줘\",\n",
    "    'language': \"python\"\n",
    "})"
   ]
  },
  {
   "cell_type": "code",
   "execution_count": 29,
   "id": "4952c099-4a1a-4dc0-8021-9856dc355403",
   "metadata": {},
   "outputs": [
    {
     "data": {
      "text/plain": [
       "{'code': \"import webbrowser\\n\\n# Open Chrome and search for 강상재 on Google\\nwebbrowser.get('chrome').open_new_tab('https://www.google.com/search?q=강상재')\",\n",
       " 'execution_result': {'returncode': 0, 'result': ''}}"
      ]
     },
     "execution_count": 29,
     "metadata": {},
     "output_type": "execute_result"
    }
   ],
   "source": [
    "chain.invoke({\n",
    "    'goal': \"크롬 켜서 구글에 강상재 검색해줘\",\n",
    "    'language': \"python\"\n",
    "})"
   ]
  },
  {
   "cell_type": "code",
   "execution_count": 38,
   "id": "ef8c6010-eb12-4f31-a04a-d4cd3ceae704",
   "metadata": {},
   "outputs": [
    {
     "data": {
      "text/plain": [
       "{'code': 'from datetime import datetime, timedelta\\nimport os\\n\\n# Set the meeting details\\nmeeting_title = \"Meeting with 최선열\"\\nmeeting_time = datetime.now().replace(hour=16, minute=0) + timedelta(days=1)\\n\\n# Format the meeting time for Google Calendar\\nmeeting_time_str = meeting_time.strftime(\"%Y-%m-%dT%H:%M:%S\")\\nmeeting_end_time_str = (meeting_time + timedelta(hours=1)).strftime(\"%Y-%m-%dT%H:%M:%S\")\\n\\n# Create the event in Google Calendar\\nos.system(f\"open \\'http://www.google.com/calendar/event?action=TEMPLATE&text={meeting_title}&dates={meeting_time_str}/{meeting_end_time_str}\\'\")',\n",
       " 'execution_result': {'returncode': 0, 'result': ''}}"
      ]
     },
     "execution_count": 38,
     "metadata": {},
     "output_type": "execute_result"
    }
   ],
   "source": [
    "chain.invoke({\n",
    "    'goal': \"구글 캘린더에 내일 오후 4시로 최선열이랑 미팅 일정 추가해줘\",\n",
    "    'language': \"python\"\n",
    "})"
   ]
  },
  {
   "cell_type": "code",
   "execution_count": 50,
   "id": "7d881624-29d1-4398-ac87-5411f9010407",
   "metadata": {},
   "outputs": [
    {
     "data": {
      "text/plain": [
       "{'code': 'import webbrowser\\n\\n# Search for \"Frozen\" on Netflix\\nquery = \"Frozen\"\\nurl = f\"https://www.netflix.com/search?q={query}\"\\nwebbrowser.open(url)',\n",
       " 'execution_result': {'returncode': 0, 'result': ''}}"
      ]
     },
     "execution_count": 50,
     "metadata": {},
     "output_type": "execute_result"
    }
   ],
   "source": [
    "chain.invoke({\n",
    "    'goal': \"넷플릭스에 겨울왕국 틀어줘\",\n",
    "    'language': \"python\"\n",
    "})"
   ]
  },
  {
   "cell_type": "code",
   "execution_count": null,
   "id": "4f622740-3a3b-48a2-a2ab-50b1e36b4b63",
   "metadata": {},
   "outputs": [],
   "source": []
  }
 ],
 "metadata": {
  "kernelspec": {
   "display_name": "Python 3 (ipykernel)",
   "language": "python",
   "name": "python3"
  },
  "language_info": {
   "codemirror_mode": {
    "name": "ipython",
    "version": 3
   },
   "file_extension": ".py",
   "mimetype": "text/x-python",
   "name": "python",
   "nbconvert_exporter": "python",
   "pygments_lexer": "ipython3",
   "version": "3.10.14"
  }
 },
 "nbformat": 4,
 "nbformat_minor": 5
}
